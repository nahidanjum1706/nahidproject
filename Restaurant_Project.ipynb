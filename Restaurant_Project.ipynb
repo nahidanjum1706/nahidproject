{
 "cells": [
  {
   "cell_type": "markdown",
   "metadata": {},
   "source": [
    "# Restaurant Food Cost Project(Regression)"
   ]
  },
  {
   "cell_type": "markdown",
   "metadata": {},
   "source": [
    "# Data Preprocessing"
   ]
  },
  {
   "cell_type": "code",
   "execution_count": 36,
   "metadata": {},
   "outputs": [],
   "source": [
    "import numpy as np\n",
    "import pandas as pd\n",
    "import matplotlib.pyplot as plt\n",
    "import seaborn as sns\n",
    "import warnings\n",
    "warnings.filterwarnings('ignore')"
   ]
  },
  {
   "cell_type": "code",
   "execution_count": 37,
   "metadata": {},
   "outputs": [
    {
     "data": {
      "text/html": [
       "<div>\n",
       "<style scoped>\n",
       "    .dataframe tbody tr th:only-of-type {\n",
       "        vertical-align: middle;\n",
       "    }\n",
       "\n",
       "    .dataframe tbody tr th {\n",
       "        vertical-align: top;\n",
       "    }\n",
       "\n",
       "    .dataframe thead th {\n",
       "        text-align: right;\n",
       "    }\n",
       "</style>\n",
       "<table border=\"1\" class=\"dataframe\">\n",
       "  <thead>\n",
       "    <tr style=\"text-align: right;\">\n",
       "      <th></th>\n",
       "      <th>TITLE</th>\n",
       "      <th>RESTAURANT_ID</th>\n",
       "      <th>CUISINES</th>\n",
       "      <th>TIME</th>\n",
       "      <th>CITY</th>\n",
       "      <th>LOCALITY</th>\n",
       "      <th>RATING</th>\n",
       "      <th>VOTES</th>\n",
       "      <th>COST</th>\n",
       "    </tr>\n",
       "  </thead>\n",
       "  <tbody>\n",
       "    <tr>\n",
       "      <th>0</th>\n",
       "      <td>CASUAL DINING</td>\n",
       "      <td>9438</td>\n",
       "      <td>Malwani, Goan, North Indian</td>\n",
       "      <td>11am – 4pm, 7:30pm – 11:30pm (Mon-Sun)</td>\n",
       "      <td>Thane</td>\n",
       "      <td>Dombivali East</td>\n",
       "      <td>3.6</td>\n",
       "      <td>49 votes</td>\n",
       "      <td>1200</td>\n",
       "    </tr>\n",
       "    <tr>\n",
       "      <th>1</th>\n",
       "      <td>CASUAL DINING,BAR</td>\n",
       "      <td>13198</td>\n",
       "      <td>Asian, Modern Indian, Japanese</td>\n",
       "      <td>6pm – 11pm (Mon-Sun)</td>\n",
       "      <td>Chennai</td>\n",
       "      <td>Ramapuram</td>\n",
       "      <td>4.2</td>\n",
       "      <td>30 votes</td>\n",
       "      <td>1500</td>\n",
       "    </tr>\n",
       "    <tr>\n",
       "      <th>2</th>\n",
       "      <td>CASUAL DINING</td>\n",
       "      <td>10915</td>\n",
       "      <td>North Indian, Chinese, Biryani, Hyderabadi</td>\n",
       "      <td>11am – 3:30pm, 7pm – 11pm (Mon-Sun)</td>\n",
       "      <td>Chennai</td>\n",
       "      <td>Saligramam</td>\n",
       "      <td>3.8</td>\n",
       "      <td>221 votes</td>\n",
       "      <td>800</td>\n",
       "    </tr>\n",
       "    <tr>\n",
       "      <th>3</th>\n",
       "      <td>QUICK BITES</td>\n",
       "      <td>6346</td>\n",
       "      <td>Tibetan, Chinese</td>\n",
       "      <td>11:30am – 1am (Mon-Sun)</td>\n",
       "      <td>Mumbai</td>\n",
       "      <td>Bandra West</td>\n",
       "      <td>4.1</td>\n",
       "      <td>24 votes</td>\n",
       "      <td>800</td>\n",
       "    </tr>\n",
       "    <tr>\n",
       "      <th>4</th>\n",
       "      <td>DESSERT PARLOR</td>\n",
       "      <td>15387</td>\n",
       "      <td>Desserts</td>\n",
       "      <td>11am – 1am (Mon-Sun)</td>\n",
       "      <td>Mumbai</td>\n",
       "      <td>Lower Parel</td>\n",
       "      <td>3.8</td>\n",
       "      <td>165 votes</td>\n",
       "      <td>300</td>\n",
       "    </tr>\n",
       "    <tr>\n",
       "      <th>...</th>\n",
       "      <td>...</td>\n",
       "      <td>...</td>\n",
       "      <td>...</td>\n",
       "      <td>...</td>\n",
       "      <td>...</td>\n",
       "      <td>...</td>\n",
       "      <td>...</td>\n",
       "      <td>...</td>\n",
       "      <td>...</td>\n",
       "    </tr>\n",
       "    <tr>\n",
       "      <th>12685</th>\n",
       "      <td>QUICK BITES</td>\n",
       "      <td>13228</td>\n",
       "      <td>North Indian, Burger, Kebab</td>\n",
       "      <td>12noon – 12midnight (Mon, Tue, Wed, Thu, Sun)...</td>\n",
       "      <td>Hyderabad</td>\n",
       "      <td>Gachibowli</td>\n",
       "      <td>3.8</td>\n",
       "      <td>546 votes</td>\n",
       "      <td>500</td>\n",
       "    </tr>\n",
       "    <tr>\n",
       "      <th>12686</th>\n",
       "      <td>CASUAL DINING,BAR</td>\n",
       "      <td>9686</td>\n",
       "      <td>Goan, Continental</td>\n",
       "      <td>12noon – 1am (Mon-Fri),11am – 5pm, 7pm – 1am...</td>\n",
       "      <td>Mumbai</td>\n",
       "      <td>Bandra Kurla Complex</td>\n",
       "      <td>4.3</td>\n",
       "      <td>1214 votes</td>\n",
       "      <td>1800</td>\n",
       "    </tr>\n",
       "    <tr>\n",
       "      <th>12687</th>\n",
       "      <td>LOUNGE</td>\n",
       "      <td>11133</td>\n",
       "      <td>Finger Food, Continental, Asian, Chinese</td>\n",
       "      <td>12noon – 12:30AM (Mon-Sun)</td>\n",
       "      <td>Navi Mumbai</td>\n",
       "      <td>Vashi</td>\n",
       "      <td>4.0</td>\n",
       "      <td>608 votes</td>\n",
       "      <td>1300</td>\n",
       "    </tr>\n",
       "    <tr>\n",
       "      <th>12688</th>\n",
       "      <td>CASUAL DINING</td>\n",
       "      <td>6134</td>\n",
       "      <td>North Indian, South Indian, Chinese, Street Food</td>\n",
       "      <td>6am – 10:45pm (Mon-Sun)</td>\n",
       "      <td>Chennai</td>\n",
       "      <td>Maduravoyal</td>\n",
       "      <td>3.5</td>\n",
       "      <td>32 votes</td>\n",
       "      <td>400</td>\n",
       "    </tr>\n",
       "    <tr>\n",
       "      <th>12689</th>\n",
       "      <td>CASUAL DINING</td>\n",
       "      <td>6430</td>\n",
       "      <td>North Indian, Chinese</td>\n",
       "      <td>12:30pm – 11pm (Mon-Sun)</td>\n",
       "      <td>Hyderabad</td>\n",
       "      <td>Vanasthalipuram</td>\n",
       "      <td>3.4</td>\n",
       "      <td>677 votes</td>\n",
       "      <td>600</td>\n",
       "    </tr>\n",
       "  </tbody>\n",
       "</table>\n",
       "<p>12690 rows × 9 columns</p>\n",
       "</div>"
      ],
      "text/plain": [
       "                   TITLE  RESTAURANT_ID  \\\n",
       "0          CASUAL DINING           9438   \n",
       "1      CASUAL DINING,BAR          13198   \n",
       "2          CASUAL DINING          10915   \n",
       "3            QUICK BITES           6346   \n",
       "4         DESSERT PARLOR          15387   \n",
       "...                  ...            ...   \n",
       "12685        QUICK BITES          13228   \n",
       "12686  CASUAL DINING,BAR           9686   \n",
       "12687             LOUNGE          11133   \n",
       "12688      CASUAL DINING           6134   \n",
       "12689      CASUAL DINING           6430   \n",
       "\n",
       "                                               CUISINES  \\\n",
       "0                           Malwani, Goan, North Indian   \n",
       "1                        Asian, Modern Indian, Japanese   \n",
       "2            North Indian, Chinese, Biryani, Hyderabadi   \n",
       "3                                      Tibetan, Chinese   \n",
       "4                                              Desserts   \n",
       "...                                                 ...   \n",
       "12685                       North Indian, Burger, Kebab   \n",
       "12686                                 Goan, Continental   \n",
       "12687          Finger Food, Continental, Asian, Chinese   \n",
       "12688  North Indian, South Indian, Chinese, Street Food   \n",
       "12689                             North Indian, Chinese   \n",
       "\n",
       "                                                   TIME         CITY  \\\n",
       "0                11am – 4pm, 7:30pm – 11:30pm (Mon-Sun)        Thane   \n",
       "1                                  6pm – 11pm (Mon-Sun)      Chennai   \n",
       "2                   11am – 3:30pm, 7pm – 11pm (Mon-Sun)      Chennai   \n",
       "3                               11:30am – 1am (Mon-Sun)       Mumbai   \n",
       "4                                  11am – 1am (Mon-Sun)       Mumbai   \n",
       "...                                                 ...          ...   \n",
       "12685  12noon – 12midnight (Mon, Tue, Wed, Thu, Sun)...    Hyderabad   \n",
       "12686   12noon – 1am (Mon-Fri),11am – 5pm, 7pm – 1am...       Mumbai   \n",
       "12687                        12noon – 12:30AM (Mon-Sun)  Navi Mumbai   \n",
       "12688                           6am – 10:45pm (Mon-Sun)      Chennai   \n",
       "12689                          12:30pm – 11pm (Mon-Sun)    Hyderabad   \n",
       "\n",
       "                   LOCALITY RATING       VOTES  COST  \n",
       "0            Dombivali East    3.6    49 votes  1200  \n",
       "1                 Ramapuram    4.2    30 votes  1500  \n",
       "2                Saligramam    3.8   221 votes   800  \n",
       "3               Bandra West    4.1    24 votes   800  \n",
       "4               Lower Parel    3.8   165 votes   300  \n",
       "...                     ...    ...         ...   ...  \n",
       "12685            Gachibowli    3.8   546 votes   500  \n",
       "12686  Bandra Kurla Complex    4.3  1214 votes  1800  \n",
       "12687                 Vashi    4.0   608 votes  1300  \n",
       "12688           Maduravoyal    3.5    32 votes   400  \n",
       "12689       Vanasthalipuram    3.4   677 votes   600  \n",
       "\n",
       "[12690 rows x 9 columns]"
      ]
     },
     "execution_count": 37,
     "metadata": {},
     "output_type": "execute_result"
    }
   ],
   "source": [
    "train=pd.read_excel(\"RestaurantData_Train.xlsx\")\n",
    "train\n"
   ]
  },
  {
   "cell_type": "code",
   "execution_count": 38,
   "metadata": {},
   "outputs": [
    {
     "data": {
      "text/plain": [
       "TITLE               0\n",
       "RESTAURANT_ID       0\n",
       "CUISINES            0\n",
       "TIME                0\n",
       "CITY              112\n",
       "LOCALITY           98\n",
       "RATING              2\n",
       "VOTES            1204\n",
       "COST                0\n",
       "dtype: int64"
      ]
     },
     "execution_count": 38,
     "metadata": {},
     "output_type": "execute_result"
    }
   ],
   "source": [
    "train.isnull().sum()"
   ]
  },
  {
   "cell_type": "code",
   "execution_count": 40,
   "metadata": {},
   "outputs": [],
   "source": [
    "train[\"CITY\"] = train[\"CITY\"].fillna('NOTFOUND')\n",
    "train[\"LOCALITY\"] = train[\"LOCALITY\"].fillna('NOTFOUND')\n",
    "train[\"VOTES\"] = train[\"VOTES\"].fillna('0.0 Votes')\n"
   ]
  },
  {
   "cell_type": "code",
   "execution_count": 41,
   "metadata": {},
   "outputs": [],
   "source": [
    "train[\"RATING\"].replace(\"NEW\",0,inplace=True)\n",
    "train[\"RATING\"].replace(\"-\",0,inplace=True)\n",
    "train[\"RATING\"].fillna(0,inplace=True)"
   ]
  },
  {
   "cell_type": "code",
   "execution_count": 42,
   "metadata": {
    "scrolled": false
   },
   "outputs": [
    {
     "data": {
      "text/plain": [
       "TITLE            0\n",
       "RESTAURANT_ID    0\n",
       "CUISINES         0\n",
       "TIME             0\n",
       "CITY             0\n",
       "LOCALITY         0\n",
       "RATING           0\n",
       "VOTES            0\n",
       "COST             0\n",
       "dtype: int64"
      ]
     },
     "execution_count": 42,
     "metadata": {},
     "output_type": "execute_result"
    }
   ],
   "source": [
    "train.isnull().sum()"
   ]
  },
  {
   "cell_type": "code",
   "execution_count": 43,
   "metadata": {},
   "outputs": [],
   "source": [
    "train.drop('RESTAURANT_ID',axis=1,inplace=True)"
   ]
  },
  {
   "cell_type": "code",
   "execution_count": 44,
   "metadata": {},
   "outputs": [
    {
     "data": {
      "text/plain": [
       "array(['Thane', 'Chennai', 'Mumbai', 'Bangalore', 'Gurgaon', 'Hyderabad',\n",
       "       'Kochi', 'Thane West', 'Andheri Lokhandwala', 'New Delhi',\n",
       "       'Andheri West', 'Malad East', '682036', 'Bangalor', 'Navi Mumbai',\n",
       "       'Bandra West', 'Delhi', 'Noida', 'Bangalore-560066',\n",
       "       'Secunderabad', 'NOTFOUND', 'India', 'Madhuranagar',\n",
       "       'Chennai Teynampet', 'Faridabad', 'Chembur.', 'Maharashtra',\n",
       "       'opp gurudwara Shakurpur', 'Telagana Land Line:040-48507016',\n",
       "       'Ghaziabad', 'Karnataka', 'Kerala', 'Edappally', 'Kadavanthra',\n",
       "       'Ernakulam Circle kochi', 'Bengalore', 'Near Reliance Fresh',\n",
       "       'Kilpauk', 'Bengaluru', 'Kothaguda', 'Goregaon West', 'Banglore',\n",
       "       'Tamil Nadu', 'Kakkanad', 'Kochi Elamkulam', 'Outer Ring Road',\n",
       "       'Mulund East', 'Secunderabad main road near signal NMREC COLLEGE',\n",
       "       'Telangana', 'Ponnuruni Kochi', 'Gachibowli', 'Semmancheri',\n",
       "       '5th Main Teachers Colony Koramangala Block 1 Bangalore 560034',\n",
       "       'Mumbai Mahim', 'Powai (Next to Powai Plaza)', 'Dombivali East',\n",
       "       'Kochi Vyttila', 'Kandivali', 'Kochi Palarivattom',\n",
       "       'Dewan Rama Road', 'Gurugram', 'Sector 51 Noida', 'Kaloor',\n",
       "       'Besant Nagar', 'Arumbakkam chennai-600106.',\n",
       "       'Adjacent To Commercial Street', 'Delhi NCR', 'Dwarka', '682035.',\n",
       "       'Kalyan West', 'Avadi', 'Kondapur', 'Mehdipatnam', 'Gandipet',\n",
       "       'Velachery', 'Pallavaram', 'Vijaya Nagar', 'BTM Layout',\n",
       "       'Chennai 600034.',\n",
       "       'Metro Pillar No 21. Mettuguda main road near railway degree college.',\n",
       "       'Chennai - 600040', 'JP Nagar Bangalore', 'Madhapur', 'Ernakulam',\n",
       "       'Sarjapur', 'Whitefield Bangalore', 'Kochi Chullickal',\n",
       "       'Kochi-683101', 'Bangalore - 560076', 'Rohini',\n",
       "       'Hyderabad Behind Vacs Pastries', 'Hyderabad neerus emporium.',\n",
       "       'Navi Mumbai.', 'Karol Bagh', 'Perungudi', 'Thykoodam',\n",
       "       'Greater Noida', 'Bangalore.', 'Khairatabad', 'chullickal',\n",
       "       'Grant Road West', 'Hitech City', 'West Maredpally',\n",
       "       'Mumbai - 400007', 'Chennai Padur', 'Chander Nagar New Delhi',\n",
       "       'Nedumbassery', 'MG Road', 'Naya Nagar Mira Road', 'Pitampura',\n",
       "       'Lower Parel', 'HBR Layout', 'Telangana 500003',\n",
       "       'Rajiv gandhi Nagar', 'New Delhi.', 'Medavakkam', 'Sathya Nagar',\n",
       "       'p.o Kochi', 'Behind Ramalayam Temple', 'Palarivattom',\n",
       "       'Brigade Road', 'Mumbai.', 'Mumbai Andheri East', 'Virar West',\n",
       "       'B-1 Stage', 'Chennai Kovalam', 'Hyderabad.', 'Aluva',\n",
       "       'Telangana 500034', 'IOB Bank Kamala Nagar', 'HSR Layout',\n",
       "       'Marine Drive', 'DLF Galleria', 'Nallathambi Main Road',\n",
       "       'Chennai opp: Vasanth & co', 'Citypark', 'Karnataka 560103',\n",
       "       'Bhayandar', 'Aluva Circle', 'Thammenahalli Village', 'SG Palya',\n",
       "       'Attapur.', 'Near Shangrilla Bus Stop', 'Khar (west)', 'Road 3',\n",
       "       'Kukatpally', 'Faridabd', 'Telangana 500032', 'Dilsukhnagar',\n",
       "       'Mogappair. Chennai', 'Near Munrshwara Temple', 'Off Brigade Road',\n",
       "       'khar west', 'Potheri', 'Chennai Perungudi',\n",
       "       'Chennai Thuraipakkam', 'OMR Karapakkam', 'Hyderabad-500032',\n",
       "       'Mumbai Dombivali East', 'Chennai Thousand Lights', 'Mahim',\n",
       "       'Lingampally', 'Powai', 'New Delhi-110024', 'Chennai- 600107',\n",
       "       'Kerala 683104', 'Vasai West.', 'Thane (W)',\n",
       "       'Near Santosh Banjara Hyderabad',\n",
       "       'Banaswadi (Next to Indian Bank) Bangalore', 'BTM Bangalore',\n",
       "       'Greater Kailash 2 New Delhi', 'Secunderabad ECIL',\n",
       "       'Bangalore Koramangala 7th Block', 'bangalore : 560085',\n",
       "       'navi mumbai', 'Gachibowli Hyderabad',\n",
       "       'CPR layout harlur main road opposite to ozone ever green apartment Bangalore -',\n",
       "       'ECR NEELANKARAI Chennai 600115', 'ward X11', 'kochi',\n",
       "       'Perumbavoor', 'Mira raod east', 'Kerala 682013', 'Chennai.',\n",
       "       'Pokhran Road 2', 'Uttar Pradesh', 'Karnataka 560102',\n",
       "       'Mumbai - 400013', 'Naharpar', 'Hosur Road',\n",
       "       'Near Bharat Petroleum.', 'Chennai (Bang Opposite Indian Bank)',\n",
       "       'Sriram nagar', 'West Mumbai', 'Vyttila', 'Banjara Hills',\n",
       "       'MALAPALLIPURAM P .O THRISSUR', 'Andheri west Mumbai',\n",
       "       'Karnataka 560043', 'Panampilly Nagar', 'hyderabad',\n",
       "       'Borivali East.', 'ECIL', 'Jubilee Hills',\n",
       "       'Amrit kaur market opposite new delhi railway station paharganj',\n",
       "       'Chennai Opposite 5C Bus stand', 'Telengana', 'Kochi Ravipuram',\n",
       "       'Rajanpada', 'Mahabalipuram', 'Secunderabad. WE HAVE NO BRANCHES.',\n",
       "       'Telangana 500081', 'Gurgoan', 'Elamakkara', 'Sector 1',\n",
       "       'Bandra W', 'Kolathur', 'Chennai Mahabalipuram', '3rd Street',\n",
       "       'Mumbai Chakala', 'Borivali West', 'Rodeo Drive Sector 49',\n",
       "       'Pallimukku', 'Delhi 110085', 'Sector 51', 'Champapet',\n",
       "       'Andavar Nagar', 'Bangalore - 560103', 'Kerala 690525',\n",
       "       'opp mukteshwar ashram powai', 'Nungambakkam', 'BK Guda',\n",
       "       'Jogeshwari (w) Mumbai', 'Kukatapally', 'Near Sector 110 Noida',\n",
       "       'Navallur', 'Beside Excellency Gardens', 'Mumbai - 80', 'Begumpet',\n",
       "       'Maharaja Hotel Beside Gardania Bar', 'Ashok Vihar Phase 1',\n",
       "       'Trivandrum', 'Kochi-18', 'Narayanguda', 'Thevera', 'Chennai-40',\n",
       "       'Palm Beach Road', 'East Coast Road (ECR)', 'Ramapuram',\n",
       "       'Chennai Chrompet', 'Nandanam', 'Saket', 'MG Road Ernakulam',\n",
       "       'Andheri Lokhandwala.', 'Indiranagar', 'Thiruvanmiyur', 'Ambattur',\n",
       "       'Banglaore', 'Chennai - 34 Landmark - Near Loyola College',\n",
       "       'Anna Nagar West', 'Old Railway Road', 'East Mumbai',\n",
       "       'Kanakapura Road Banglore', 'Kochi Kakkanad', 'Kalyan',\n",
       "       'Near Ramlila Ground', 'Serilingampally', 'Himayath Nagar',\n",
       "       'Nallala Street', 'Anna Salai', 'Old Delhi', 'Wagle Estate',\n",
       "       '1st Stage', 'Kochi-16', 'Kochi International Airport VIP Road',\n",
       "       'First Street', 'Chenn ai', '6 & 7 - 4/64 Subhash Nagar',\n",
       "       '1st Tavarekere', 'Perambur', 'Vaishali Ghaziabad', 'Thanisandra',\n",
       "       'Block F', 'Sector 7 Dwarka', 'Opposite Barathi Gas Company',\n",
       "       'Vadapalani', 'Kondapur.', 'Badlapur West.', 'Kalamassery',\n",
       "       'Palavakkam', 'TCS Synergy park', 'BTM 1st Stage', 'Mahadevpura',\n",
       "       'NEW BEL ROAD 560054',\n",
       "       'Veliaveetil house Vivekananda Nagar Elamakkara', 'Sholinganallur',\n",
       "       'Maharashtra 400102', 'Lower Parel West', 'Tripunithura',\n",
       "       'Mogappair', 'Telangana 500070', 'JP Nagar', 'Navi-Mumbai',\n",
       "       'Ashok Nagar', 'Marathahalli', 'Haridwar Apartments',\n",
       "       'Kerala 682001 India', 'Karnataka 560037', 'Kerala 683585',\n",
       "       'Chennai. (Near Hotel Matshya)', 'Indirapuram',\n",
       "       'Begumpet Hyderabad', 'Manikonda',\n",
       "       'Bangalore land mark above mahaveer hard ware', 'Kerala 682304',\n",
       "       'Rajarajeshwari Nagar bangalore', 'GST Road', 'Fort Kochi',\n",
       "       'Lahari Apartments', 'Ramanthapur', 'Mulund west',\n",
       "       'Gurgaon Haryana India', 'New Delhi..Near by SBI bank',\n",
       "       'Kochi Aluva 102', 'Phase 1 Bangalore', 'Hyderabad Manikonda',\n",
       "       'Mumbai This is a Delivery & Take-away Restaurant only.',\n",
       "       '10th avenue', 'Uppal', 'New Delhi 110075', 'Nizampet', 'Ulsoo',\n",
       "       'Bangalore 560076', 'PVR plaza cinema building Connaught Place',\n",
       "       'Gurgaon Haryana', 'Chromepet', 'Kerala 682024', 'Janakpuri',\n",
       "       'Secunderabad.', 'chennai', 'B.B.M.P East (Karnataka) - 560049',\n",
       "       'Tambaram', 'Malleshwaram Bangalore', 'Vadapalani.',\n",
       "       'Dist. Center New Delhi', 'Bangalore Road', 'aluva circle',\n",
       "       'Kochi.', 'Thane Mumbai', 'Kadubesanahalli Bangalore',\n",
       "       'Vasai west', 'Mig Housing Society', 'Haryana', 'Borivali West.',\n",
       "       'Golf Course Road', 'Khar Mumbai', 'Near Jyothinivas College',\n",
       "       'Anna Nagar East', 'Masab Tank'], dtype=object)"
      ]
     },
     "execution_count": 44,
     "metadata": {},
     "output_type": "execute_result"
    }
   ],
   "source": [
    "train[\"CITY\"].unique()"
   ]
  },
  {
   "cell_type": "code",
   "execution_count": 45,
   "metadata": {},
   "outputs": [],
   "source": [
    "train[\"VOTES\"]=train[\"VOTES\"].map(lambda x:x.split(' ')[0])"
   ]
  },
  {
   "cell_type": "code",
   "execution_count": 46,
   "metadata": {},
   "outputs": [],
   "source": [
    "train['VOTES']=train['VOTES'].astype(float)"
   ]
  },
  {
   "cell_type": "code",
   "execution_count": 47,
   "metadata": {},
   "outputs": [
    {
     "data": {
      "text/plain": [
       "array(['3.6', '4.2', '3.8', '4.1', '4.0', '4.3', '3.9', '3.3', '3.4', 0,\n",
       "       '4.5', '3.5', '4.4', '2.7', '3.7', '4.7', '3.1', '2.5', '4.6',\n",
       "       '2.8', '3.0', '3.2', '2.6', '2.9', '4.9', '4.8', '2.4', '2.3',\n",
       "       '2.0', '2.1', '2.2'], dtype=object)"
      ]
     },
     "execution_count": 47,
     "metadata": {},
     "output_type": "execute_result"
    }
   ],
   "source": [
    "train[\"RATING\"].unique()"
   ]
  },
  {
   "cell_type": "code",
   "execution_count": 48,
   "metadata": {},
   "outputs": [],
   "source": [
    "train['RATING']=train['RATING'].astype(float)"
   ]
  },
  {
   "cell_type": "code",
   "execution_count": 49,
   "metadata": {},
   "outputs": [],
   "source": [
    "train.drop('TIME',axis=1,inplace=True)"
   ]
  },
  {
   "cell_type": "code",
   "execution_count": 50,
   "metadata": {},
   "outputs": [
    {
     "data": {
      "text/plain": [
       "South Indian                                                             532\n",
       "North Indian                                                             526\n",
       "North Indian, Chinese                                                    501\n",
       "Fast Food                                                                286\n",
       "Chinese                                                                  167\n",
       "                                                                        ... \n",
       "Kebab, Chinese, North Indian, Seafood, Beverages                           1\n",
       "Arabian, Biryani, Chinese, Middle Eastern, Fast Food, North Indian, ,      1\n",
       "Asian, North Indian, Bar Food, Mediterranean, European, Tex-Mex            1\n",
       "Fast Food, North Indian, Street Food                                       1\n",
       "Italian, European, Modern Indian, Asian, North Indian, Beverages,          1\n",
       "Name: CUISINES, Length: 4155, dtype: int64"
      ]
     },
     "execution_count": 50,
     "metadata": {},
     "output_type": "execute_result"
    }
   ],
   "source": [
    "train['CUISINES'].value_counts()"
   ]
  },
  {
   "cell_type": "code",
   "execution_count": 51,
   "metadata": {},
   "outputs": [],
   "source": [
    "def imput_cus(x):\n",
    "    fnd=x.count(',')\n",
    "    return int(fnd+1)"
   ]
  },
  {
   "cell_type": "code",
   "execution_count": 52,
   "metadata": {},
   "outputs": [],
   "source": [
    "train['CUISINES']=train.apply(lambda x : imput_cus(x['CUISINES']),axis=1)"
   ]
  },
  {
   "cell_type": "code",
   "execution_count": 53,
   "metadata": {},
   "outputs": [
    {
     "data": {
      "text/html": [
       "<div>\n",
       "<style scoped>\n",
       "    .dataframe tbody tr th:only-of-type {\n",
       "        vertical-align: middle;\n",
       "    }\n",
       "\n",
       "    .dataframe tbody tr th {\n",
       "        vertical-align: top;\n",
       "    }\n",
       "\n",
       "    .dataframe thead th {\n",
       "        text-align: right;\n",
       "    }\n",
       "</style>\n",
       "<table border=\"1\" class=\"dataframe\">\n",
       "  <thead>\n",
       "    <tr style=\"text-align: right;\">\n",
       "      <th></th>\n",
       "      <th>TITLE</th>\n",
       "      <th>CUISINES</th>\n",
       "      <th>CITY</th>\n",
       "      <th>LOCALITY</th>\n",
       "      <th>RATING</th>\n",
       "      <th>VOTES</th>\n",
       "      <th>COST</th>\n",
       "    </tr>\n",
       "  </thead>\n",
       "  <tbody>\n",
       "    <tr>\n",
       "      <th>0</th>\n",
       "      <td>CASUAL DINING</td>\n",
       "      <td>3</td>\n",
       "      <td>Thane</td>\n",
       "      <td>Dombivali East</td>\n",
       "      <td>3.6</td>\n",
       "      <td>49.0</td>\n",
       "      <td>1200</td>\n",
       "    </tr>\n",
       "    <tr>\n",
       "      <th>1</th>\n",
       "      <td>CASUAL DINING,BAR</td>\n",
       "      <td>3</td>\n",
       "      <td>Chennai</td>\n",
       "      <td>Ramapuram</td>\n",
       "      <td>4.2</td>\n",
       "      <td>30.0</td>\n",
       "      <td>1500</td>\n",
       "    </tr>\n",
       "    <tr>\n",
       "      <th>2</th>\n",
       "      <td>CASUAL DINING</td>\n",
       "      <td>4</td>\n",
       "      <td>Chennai</td>\n",
       "      <td>Saligramam</td>\n",
       "      <td>3.8</td>\n",
       "      <td>221.0</td>\n",
       "      <td>800</td>\n",
       "    </tr>\n",
       "    <tr>\n",
       "      <th>3</th>\n",
       "      <td>QUICK BITES</td>\n",
       "      <td>2</td>\n",
       "      <td>Mumbai</td>\n",
       "      <td>Bandra West</td>\n",
       "      <td>4.1</td>\n",
       "      <td>24.0</td>\n",
       "      <td>800</td>\n",
       "    </tr>\n",
       "    <tr>\n",
       "      <th>4</th>\n",
       "      <td>DESSERT PARLOR</td>\n",
       "      <td>1</td>\n",
       "      <td>Mumbai</td>\n",
       "      <td>Lower Parel</td>\n",
       "      <td>3.8</td>\n",
       "      <td>165.0</td>\n",
       "      <td>300</td>\n",
       "    </tr>\n",
       "    <tr>\n",
       "      <th>...</th>\n",
       "      <td>...</td>\n",
       "      <td>...</td>\n",
       "      <td>...</td>\n",
       "      <td>...</td>\n",
       "      <td>...</td>\n",
       "      <td>...</td>\n",
       "      <td>...</td>\n",
       "    </tr>\n",
       "    <tr>\n",
       "      <th>12685</th>\n",
       "      <td>QUICK BITES</td>\n",
       "      <td>3</td>\n",
       "      <td>Hyderabad</td>\n",
       "      <td>Gachibowli</td>\n",
       "      <td>3.8</td>\n",
       "      <td>546.0</td>\n",
       "      <td>500</td>\n",
       "    </tr>\n",
       "    <tr>\n",
       "      <th>12686</th>\n",
       "      <td>CASUAL DINING,BAR</td>\n",
       "      <td>2</td>\n",
       "      <td>Mumbai</td>\n",
       "      <td>Bandra Kurla Complex</td>\n",
       "      <td>4.3</td>\n",
       "      <td>1214.0</td>\n",
       "      <td>1800</td>\n",
       "    </tr>\n",
       "    <tr>\n",
       "      <th>12687</th>\n",
       "      <td>LOUNGE</td>\n",
       "      <td>4</td>\n",
       "      <td>Navi Mumbai</td>\n",
       "      <td>Vashi</td>\n",
       "      <td>4.0</td>\n",
       "      <td>608.0</td>\n",
       "      <td>1300</td>\n",
       "    </tr>\n",
       "    <tr>\n",
       "      <th>12688</th>\n",
       "      <td>CASUAL DINING</td>\n",
       "      <td>4</td>\n",
       "      <td>Chennai</td>\n",
       "      <td>Maduravoyal</td>\n",
       "      <td>3.5</td>\n",
       "      <td>32.0</td>\n",
       "      <td>400</td>\n",
       "    </tr>\n",
       "    <tr>\n",
       "      <th>12689</th>\n",
       "      <td>CASUAL DINING</td>\n",
       "      <td>2</td>\n",
       "      <td>Hyderabad</td>\n",
       "      <td>Vanasthalipuram</td>\n",
       "      <td>3.4</td>\n",
       "      <td>677.0</td>\n",
       "      <td>600</td>\n",
       "    </tr>\n",
       "  </tbody>\n",
       "</table>\n",
       "<p>12690 rows × 7 columns</p>\n",
       "</div>"
      ],
      "text/plain": [
       "                   TITLE  CUISINES         CITY              LOCALITY  RATING  \\\n",
       "0          CASUAL DINING         3        Thane        Dombivali East     3.6   \n",
       "1      CASUAL DINING,BAR         3      Chennai             Ramapuram     4.2   \n",
       "2          CASUAL DINING         4      Chennai            Saligramam     3.8   \n",
       "3            QUICK BITES         2       Mumbai           Bandra West     4.1   \n",
       "4         DESSERT PARLOR         1       Mumbai           Lower Parel     3.8   \n",
       "...                  ...       ...          ...                   ...     ...   \n",
       "12685        QUICK BITES         3    Hyderabad            Gachibowli     3.8   \n",
       "12686  CASUAL DINING,BAR         2       Mumbai  Bandra Kurla Complex     4.3   \n",
       "12687             LOUNGE         4  Navi Mumbai                 Vashi     4.0   \n",
       "12688      CASUAL DINING         4      Chennai           Maduravoyal     3.5   \n",
       "12689      CASUAL DINING         2    Hyderabad       Vanasthalipuram     3.4   \n",
       "\n",
       "        VOTES  COST  \n",
       "0        49.0  1200  \n",
       "1        30.0  1500  \n",
       "2       221.0   800  \n",
       "3        24.0   800  \n",
       "4       165.0   300  \n",
       "...       ...   ...  \n",
       "12685   546.0   500  \n",
       "12686  1214.0  1800  \n",
       "12687   608.0  1300  \n",
       "12688    32.0   400  \n",
       "12689   677.0   600  \n",
       "\n",
       "[12690 rows x 7 columns]"
      ]
     },
     "execution_count": 53,
     "metadata": {},
     "output_type": "execute_result"
    }
   ],
   "source": [
    "train"
   ]
  },
  {
   "cell_type": "code",
   "execution_count": 54,
   "metadata": {},
   "outputs": [
    {
     "data": {
      "text/plain": [
       "TITLE        object\n",
       "CUISINES      int64\n",
       "CITY         object\n",
       "LOCALITY     object\n",
       "RATING      float64\n",
       "VOTES       float64\n",
       "COST          int64\n",
       "dtype: object"
      ]
     },
     "execution_count": 54,
     "metadata": {},
     "output_type": "execute_result"
    }
   ],
   "source": [
    "train.dtypes"
   ]
  },
  {
   "cell_type": "markdown",
   "metadata": {},
   "source": [
    "# Data Visualization"
   ]
  },
  {
   "cell_type": "code",
   "execution_count": 55,
   "metadata": {},
   "outputs": [
    {
     "data": {
      "image/png": "[encoded data removed]",
      "text/plain": [
       "<Figure size 720x360 with 1 Axes>"
      ]
     },
     "metadata": {
      "needs_background": "light"
     },
     "output_type": "display_data"
    }
   ],
   "source": [
    "plt.figure(figsize=(10,5))\n",
    "sns.countplot(x='COST',data=train)\n",
    "plt.xticks(fontsize = 7,rotation=90)\n",
    "plt.show()"
   ]
  },
  {
   "cell_type": "code",
   "execution_count": 56,
   "metadata": {},
   "outputs": [
    {
     "data": {
      "image/png": "[encoded data removed]",
      "text/plain": [
       "<Figure size 432x288 with 1 Axes>"
      ]
     },
     "metadata": {
      "needs_background": "light"
     },
     "output_type": "display_data"
    },
    {
     "name": "stdout",
     "output_type": "stream",
     "text": [
      "Mean Cost is:  655.2522458628841\n"
     ]
    }
   ],
   "source": [
    "# checking mean for cost\n",
    "cost=train['COST'].hist(bins=60)\n",
    "mean=np.mean(train['COST'])\n",
    "plt.axvline(mean,linewidth=4,color='red',label='mean')\n",
    "plt.xlabel('COST')\n",
    "plt.ylabel('COUNT')\n",
    "plt.legend()\n",
    "plt.show()\n",
    "print('Mean Cost is: ',train['COST'].mean())"
   ]
  },
  {
   "cell_type": "code",
   "execution_count": 57,
   "metadata": {},
   "outputs": [],
   "source": [
    "from sklearn.preprocessing import LabelEncoder\n",
    "le=LabelEncoder()\n",
    "list=['CITY','LOCALITY','TITLE']\n",
    "for val in list:\n",
    "    train[val]=le.fit_transform(train[val].astype(str))"
   ]
  },
  {
   "cell_type": "code",
   "execution_count": 58,
   "metadata": {},
   "outputs": [
    {
     "data": {
      "text/html": [
       "<div>\n",
       "<style scoped>\n",
       "    .dataframe tbody tr th:only-of-type {\n",
       "        vertical-align: middle;\n",
       "    }\n",
       "\n",
       "    .dataframe tbody tr th {\n",
       "        vertical-align: top;\n",
       "    }\n",
       "\n",
       "    .dataframe thead th {\n",
       "        text-align: right;\n",
       "    }\n",
       "</style>\n",
       "<table border=\"1\" class=\"dataframe\">\n",
       "  <thead>\n",
       "    <tr style=\"text-align: right;\">\n",
       "      <th></th>\n",
       "      <th>TITLE</th>\n",
       "      <th>CUISINES</th>\n",
       "      <th>CITY</th>\n",
       "      <th>LOCALITY</th>\n",
       "      <th>RATING</th>\n",
       "      <th>VOTES</th>\n",
       "      <th>COST</th>\n",
       "    </tr>\n",
       "  </thead>\n",
       "  <tbody>\n",
       "    <tr>\n",
       "      <th>0</th>\n",
       "      <td>31</td>\n",
       "      <td>3</td>\n",
       "      <td>321</td>\n",
       "      <td>285</td>\n",
       "      <td>3.6</td>\n",
       "      <td>49.0</td>\n",
       "      <td>1200</td>\n",
       "    </tr>\n",
       "    <tr>\n",
       "      <th>1</th>\n",
       "      <td>33</td>\n",
       "      <td>3</td>\n",
       "      <td>67</td>\n",
       "      <td>1047</td>\n",
       "      <td>4.2</td>\n",
       "      <td>30.0</td>\n",
       "      <td>1500</td>\n",
       "    </tr>\n",
       "    <tr>\n",
       "      <th>2</th>\n",
       "      <td>31</td>\n",
       "      <td>4</td>\n",
       "      <td>67</td>\n",
       "      <td>1102</td>\n",
       "      <td>3.8</td>\n",
       "      <td>221.0</td>\n",
       "      <td>800</td>\n",
       "    </tr>\n",
       "    <tr>\n",
       "      <th>3</th>\n",
       "      <td>95</td>\n",
       "      <td>2</td>\n",
       "      <td>222</td>\n",
       "      <td>136</td>\n",
       "      <td>4.1</td>\n",
       "      <td>24.0</td>\n",
       "      <td>800</td>\n",
       "    </tr>\n",
       "    <tr>\n",
       "      <th>4</th>\n",
       "      <td>50</td>\n",
       "      <td>1</td>\n",
       "      <td>222</td>\n",
       "      <td>620</td>\n",
       "      <td>3.8</td>\n",
       "      <td>165.0</td>\n",
       "      <td>300</td>\n",
       "    </tr>\n",
       "    <tr>\n",
       "      <th>...</th>\n",
       "      <td>...</td>\n",
       "      <td>...</td>\n",
       "      <td>...</td>\n",
       "      <td>...</td>\n",
       "      <td>...</td>\n",
       "      <td>...</td>\n",
       "      <td>...</td>\n",
       "    </tr>\n",
       "    <tr>\n",
       "      <th>12685</th>\n",
       "      <td>95</td>\n",
       "      <td>3</td>\n",
       "      <td>131</td>\n",
       "      <td>342</td>\n",
       "      <td>3.8</td>\n",
       "      <td>546.0</td>\n",
       "      <td>500</td>\n",
       "    </tr>\n",
       "    <tr>\n",
       "      <th>12686</th>\n",
       "      <td>33</td>\n",
       "      <td>2</td>\n",
       "      <td>222</td>\n",
       "      <td>133</td>\n",
       "      <td>4.3</td>\n",
       "      <td>1214.0</td>\n",
       "      <td>1800</td>\n",
       "    </tr>\n",
       "    <tr>\n",
       "      <th>12687</th>\n",
       "      <td>71</td>\n",
       "      <td>4</td>\n",
       "      <td>240</td>\n",
       "      <td>1343</td>\n",
       "      <td>4.0</td>\n",
       "      <td>608.0</td>\n",
       "      <td>1300</td>\n",
       "    </tr>\n",
       "    <tr>\n",
       "      <th>12688</th>\n",
       "      <td>31</td>\n",
       "      <td>4</td>\n",
       "      <td>67</td>\n",
       "      <td>631</td>\n",
       "      <td>3.5</td>\n",
       "      <td>32.0</td>\n",
       "      <td>400</td>\n",
       "    </tr>\n",
       "    <tr>\n",
       "      <th>12689</th>\n",
       "      <td>31</td>\n",
       "      <td>2</td>\n",
       "      <td>131</td>\n",
       "      <td>1334</td>\n",
       "      <td>3.4</td>\n",
       "      <td>677.0</td>\n",
       "      <td>600</td>\n",
       "    </tr>\n",
       "  </tbody>\n",
       "</table>\n",
       "<p>12690 rows × 7 columns</p>\n",
       "</div>"
      ],
      "text/plain": [
       "       TITLE  CUISINES  CITY  LOCALITY  RATING   VOTES  COST\n",
       "0         31         3   321       285     3.6    49.0  1200\n",
       "1         33         3    67      1047     4.2    30.0  1500\n",
       "2         31         4    67      1102     3.8   221.0   800\n",
       "3         95         2   222       136     4.1    24.0   800\n",
       "4         50         1   222       620     3.8   165.0   300\n",
       "...      ...       ...   ...       ...     ...     ...   ...\n",
       "12685     95         3   131       342     3.8   546.0   500\n",
       "12686     33         2   222       133     4.3  1214.0  1800\n",
       "12687     71         4   240      1343     4.0   608.0  1300\n",
       "12688     31         4    67       631     3.5    32.0   400\n",
       "12689     31         2   131      1334     3.4   677.0   600\n",
       "\n",
       "[12690 rows x 7 columns]"
      ]
     },
     "execution_count": 58,
     "metadata": {},
     "output_type": "execute_result"
    }
   ],
   "source": [
    "train\n"
   ]
  },
  {
   "cell_type": "code",
   "execution_count": 59,
   "metadata": {},
   "outputs": [],
   "source": [
    "#sns.lineplot(x=train[\"VOTES\"],y=train[\"COST\"],data=train)\n",
    "#plt.show()"
   ]
  },
  {
   "cell_type": "markdown",
   "metadata": {},
   "source": [
    "# EDA"
   ]
  },
  {
   "cell_type": "code",
   "execution_count": 60,
   "metadata": {},
   "outputs": [
    {
     "data": {
      "image/png": "[encoded data removed]",
      "text/plain": [
       "<Figure size 288x288 with 2 Axes>"
      ]
     },
     "metadata": {
      "needs_background": "light"
     },
     "output_type": "display_data"
    }
   ],
   "source": [
    "# heatmap correlation\n",
    "import seaborn as sns\n",
    "corr_hmap=train.corr()\n",
    "plt.figure(figsize=(4,4))\n",
    "sns.heatmap(corr_hmap,annot=True)\n",
    "plt.show()"
   ]
  },
  {
   "cell_type": "code",
   "execution_count": 61,
   "metadata": {},
   "outputs": [
    {
     "data": {
      "text/plain": [
       "TITLE          AxesSubplot(0.125,0.772143;0.110714x0.107857)\n",
       "CUISINES    AxesSubplot(0.257857,0.772143;0.110714x0.107857)\n",
       "CITY        AxesSubplot(0.390714,0.772143;0.110714x0.107857)\n",
       "LOCALITY    AxesSubplot(0.523571,0.772143;0.110714x0.107857)\n",
       "RATING      AxesSubplot(0.656429,0.772143;0.110714x0.107857)\n",
       "VOTES       AxesSubplot(0.789286,0.772143;0.110714x0.107857)\n",
       "COST           AxesSubplot(0.125,0.642714;0.110714x0.107857)\n",
       "dtype: object"
      ]
     },
     "execution_count": 61,
     "metadata": {},
     "output_type": "execute_result"
    },
    {
     "data": {
      "image/png": "[encoded data removed]",
      "text/plain": [
       "<Figure size 432x288 with 36 Axes>"
      ]
     },
     "metadata": {
      "needs_background": "light"
     },
     "output_type": "display_data"
    }
   ],
   "source": [
    "#checking Outliers\n",
    "train.plot.box(subplots=True,layout=(6,6))"
   ]
  },
  {
   "cell_type": "code",
   "execution_count": 62,
   "metadata": {},
   "outputs": [
    {
     "name": "stdout",
     "output_type": "stream",
     "text": [
      "<class 'pandas.core.frame.DataFrame'>\n",
      "RangeIndex: 12690 entries, 0 to 12689\n",
      "Data columns (total 7 columns):\n",
      " #   Column    Non-Null Count  Dtype  \n",
      "---  ------    --------------  -----  \n",
      " 0   TITLE     12690 non-null  int32  \n",
      " 1   CUISINES  12690 non-null  int64  \n",
      " 2   CITY      12690 non-null  int32  \n",
      " 3   LOCALITY  12690 non-null  int32  \n",
      " 4   RATING    12690 non-null  float64\n",
      " 5   VOTES     12690 non-null  float64\n",
      " 6   COST      12690 non-null  int64  \n",
      "dtypes: float64(2), int32(3), int64(2)\n",
      "memory usage: 545.4 KB\n"
     ]
    }
   ],
   "source": [
    "train.info()"
   ]
  },
  {
   "cell_type": "code",
   "execution_count": 63,
   "metadata": {},
   "outputs": [
    {
     "name": "stdout",
     "output_type": "stream",
     "text": [
      "(12690, 7)\n",
      "(12107, 7)\n"
     ]
    }
   ],
   "source": [
    "# removing outliers\n",
    "\n",
    "from scipy.stats import zscore\n",
    "\n",
    "z=np.abs(zscore(train))\n",
    "print(train.shape)\n",
    "train=train.loc[(z<3).all(axis=1)]\n",
    "print(train.shape)"
   ]
  },
  {
   "cell_type": "code",
   "execution_count": 64,
   "metadata": {},
   "outputs": [],
   "source": [
    "train1=train.drop(columns=['COST'])\n",
    "df_x=train1\n",
    "y=train['COST']"
   ]
  },
  {
   "cell_type": "code",
   "execution_count": 65,
   "metadata": {},
   "outputs": [
    {
     "data": {
      "text/plain": [
       "TITLE      -0.091562\n",
       "CUISINES    0.682558\n",
       "CITY        0.252221\n",
       "LOCALITY    0.329641\n",
       "RATING     -2.171680\n",
       "VOTES       2.586682\n",
       "dtype: float64"
      ]
     },
     "execution_count": 65,
     "metadata": {},
     "output_type": "execute_result"
    }
   ],
   "source": [
    "df_x.skew()"
   ]
  },
  {
   "cell_type": "code",
   "execution_count": 66,
   "metadata": {},
   "outputs": [],
   "source": [
    "# Treating the skewness\n",
    "df_x.skew()\n",
    "for col in df_x.skew().index:\n",
    "    if col in df_x.describe().columns:\n",
    "        if df_x[col].skew()>0.55:\n",
    "            df_x[col]=np.sqrt(df_x[col])\n",
    "        if df_x[col].skew()<-0.55:\n",
    "            df_x[col]=np.cbrt(df_x[col])"
   ]
  },
  {
   "cell_type": "code",
   "execution_count": 67,
   "metadata": {},
   "outputs": [
    {
     "data": {
      "text/plain": [
       "TITLE      -0.091562\n",
       "CUISINES    0.214549\n",
       "CITY        0.252221\n",
       "LOCALITY    0.329641\n",
       "RATING     -2.615753\n",
       "VOTES       1.085109\n",
       "dtype: float64"
      ]
     },
     "execution_count": 67,
     "metadata": {},
     "output_type": "execute_result"
    }
   ],
   "source": [
    "df_x.skew()"
   ]
  },
  {
   "cell_type": "code",
   "execution_count": 68,
   "metadata": {},
   "outputs": [],
   "source": [
    "from sklearn.preprocessing import StandardScaler\n",
    "scale=StandardScaler()\n",
    "x=scale.fit_transform(df_x)"
   ]
  },
  {
   "cell_type": "markdown",
   "metadata": {},
   "source": [
    "# Splitting and Sending Data to Model"
   ]
  },
  {
   "cell_type": "code",
   "execution_count": 69,
   "metadata": {},
   "outputs": [
    {
     "name": "stdout",
     "output_type": "stream",
     "text": [
      "max r2 score corresponding to 55 is 0.32182175520530176\n"
     ]
    }
   ],
   "source": [
    "from sklearn.metrics import mean_absolute_error\n",
    "from sklearn.metrics import mean_squared_error\n",
    "from sklearn.metrics import r2_score\n",
    "from sklearn import linear_model\n",
    "from sklearn.model_selection import train_test_split\n",
    "max_r_score=0\n",
    "for r_state in range(37,101):\n",
    "    x_train,x_test,y_train,y_test=train_test_split(x,y,random_state=r_state,test_size=0.20)\n",
    "    regr=linear_model.LinearRegression()\n",
    "    regr.fit(x_train,y_train)\n",
    "    y_pred=regr.predict(x_test)\n",
    "    r2_scr=r2_score(y_test,y_pred)\n",
    "    if r2_scr>max_r_score:\n",
    "        max_r_score=r2_scr\n",
    "        final_r_state=r_state\n",
    "print(\"max r2 score corresponding to\",final_r_state,\"is\",max_r_score)"
   ]
  },
  {
   "cell_type": "code",
   "execution_count": 70,
   "metadata": {},
   "outputs": [],
   "source": [
    "from sklearn.linear_model import LinearRegression,Lasso,Ridge,ElasticNet\n",
    "from sklearn.svm import SVR\n",
    "from sklearn.tree import DecisionTreeRegressor"
   ]
  },
  {
   "cell_type": "code",
   "execution_count": 71,
   "metadata": {},
   "outputs": [
    {
     "name": "stdout",
     "output_type": "stream",
     "text": [
      "Score of  LinearRegression()  is 0.2814910015949976\n",
      "Error:\n",
      "Mean Absolute Error: 248.9862412749512\n",
      "Mean Squared Error: 139897.67037000274\n",
      "Root Mean Squared Error: 374.0289699608878\n",
      "R2 Score: 0.2819200694998165\n",
      "**************************************************************************************************\n",
      "\n",
      "\n",
      "Score of  Lasso()  is 0.2814584426217587\n",
      "Error:\n",
      "Mean Absolute Error: 249.08968256675135\n",
      "Mean Squared Error: 139914.16701912478\n",
      "Root Mean Squared Error: 374.05102194637135\n",
      "R2 Score: 0.2818353939464373\n",
      "**************************************************************************************************\n",
      "\n",
      "\n",
      "Score of  Ridge()  is 0.281490999592655\n",
      "Error:\n",
      "Mean Absolute Error: 248.9863919474549\n",
      "Mean Squared Error: 139897.91085155035\n",
      "Root Mean Squared Error: 374.0292914352435\n",
      "R2 Score: 0.2819188351334935\n",
      "**************************************************************************************************\n",
      "\n",
      "\n",
      "Score of  ElasticNet()  is 0.2611355123691115\n",
      "Error:\n",
      "Mean Absolute Error: 255.22632940982294\n",
      "Mean Squared Error: 144295.8536735546\n",
      "Root Mean Squared Error: 379.86294064248307\n",
      "R2 Score: 0.25934466025541236\n",
      "**************************************************************************************************\n",
      "\n",
      "\n",
      "Score of  SVR()  is 0.1638089957386174\n",
      "Error:\n",
      "Mean Absolute Error: 241.2405241566422\n",
      "Mean Squared Error: 164323.34941006463\n",
      "Root Mean Squared Error: 405.3681652646944\n",
      "R2 Score: 0.15654564502856871\n",
      "**************************************************************************************************\n",
      "\n",
      "\n",
      "Score of  DecisionTreeRegressor()  is 0.9968836472572623\n",
      "Error:\n",
      "Mean Absolute Error: 232.19460500963393\n",
      "Mean Squared Error: 127958.71152807087\n",
      "Root Mean Squared Error: 357.71316935230504\n",
      "R2 Score: 0.3432014812115678\n",
      "**************************************************************************************************\n",
      "\n",
      "\n"
     ]
    }
   ],
   "source": [
    "x_train,x_test,y_train,y_test=train_test_split(x,y,test_size=.20,random_state=53)\n",
    "\n",
    "model=[LinearRegression(),Lasso(),Ridge(),ElasticNet(),SVR(),DecisionTreeRegressor()]\n",
    "\n",
    "for m in model:\n",
    "    m.fit(x_train,y_train)\n",
    "    print(\"Score of \",m,\" is\",m.score(x_train,y_train))\n",
    "    predm=m.predict(x_test)\n",
    "    print(\"Error:\")\n",
    "    print(\"Mean Absolute Error:\",mean_absolute_error(y_test,predm))\n",
    "    print(\"Mean Squared Error:\",mean_squared_error(y_test,predm))\n",
    "    print(\"Root Mean Squared Error:\",np.sqrt(mean_squared_error(y_test,predm)))\n",
    "    print(\"R2 Score:\",r2_score(y_test,predm))\n",
    "    print(\"**************************************************************************************************\")\n",
    "    print('\\n')\n"
   ]
  },
  {
   "cell_type": "markdown",
   "metadata": {},
   "source": [
    "# Using Ensemble Technique"
   ]
  },
  {
   "cell_type": "code",
   "execution_count": 72,
   "metadata": {},
   "outputs": [
    {
     "name": "stdout",
     "output_type": "stream",
     "text": [
      "R2 Score is:  0.6817267418314831\n",
      "RSME is:  249.01122330744911\n",
      "Mean Absolute Error: 171.67281405698625\n",
      "Mean Squared Error: 62006.58933307229\n"
     ]
    }
   ],
   "source": [
    "from sklearn.ensemble import RandomForestRegressor\n",
    "rfr=RandomForestRegressor()\n",
    "rfr.fit(x_train,y_train)\n",
    "predrfr=rfr.predict(x_test)\n",
    "print(\"R2 Score is: \",r2_score(y_test,predrfr))\n",
    "print(\"RSME is: \",np.sqrt(mean_squared_error(y_test,predrfr)))\n",
    "print(\"Mean Absolute Error:\",mean_absolute_error(y_test,predrfr))\n",
    "print(\"Mean Squared Error:\",mean_squared_error(y_test,predrfr))\n",
    "    "
   ]
  },
  {
   "cell_type": "code",
   "execution_count": 73,
   "metadata": {},
   "outputs": [
    {
     "name": "stdout",
     "output_type": "stream",
     "text": [
      "R2 Score is:  0.6699300699521362\n",
      "RSME is:  253.5839879299652\n",
      "Mean Absolute Error: 173.2099581936833\n",
      "Mean Squared Error: 64304.83893446473\n"
     ]
    }
   ],
   "source": [
    "from sklearn.ensemble import GradientBoostingRegressor\n",
    "gbr=GradientBoostingRegressor()\n",
    "gbr.fit(x_train,y_train)\n",
    "predgbr=gbr.predict(x_test)\n",
    "print(\"R2 Score is: \",r2_score(y_test,predgbr))\n",
    "print(\"RSME is: \",np.sqrt(mean_squared_error(y_test,predgbr)))\n",
    "print(\"Mean Absolute Error:\",mean_absolute_error(y_test,predgbr))\n",
    "print(\"Mean Squared Error:\",mean_squared_error(y_test,predgbr))\n",
    "    "
   ]
  },
  {
   "cell_type": "markdown",
   "metadata": {},
   "source": [
    "# Using GridsearchCV"
   ]
  },
  {
   "cell_type": "code",
   "execution_count": 74,
   "metadata": {},
   "outputs": [
    {
     "data": {
      "text/plain": [
       "{'n_estimators': 150}"
      ]
     },
     "execution_count": 74,
     "metadata": {},
     "output_type": "execute_result"
    }
   ],
   "source": [
    "from sklearn.model_selection import GridSearchCV\n",
    "rfr=RandomForestRegressor()\n",
    "estimator={'n_estimators':[50,100,150]}\n",
    "clf=GridSearchCV(rfr,estimator)\n",
    "clf.fit(x,y)\n",
    "clf.best_params_"
   ]
  },
  {
   "cell_type": "markdown",
   "metadata": {},
   "source": [
    "# Selecting the best model"
   ]
  },
  {
   "cell_type": "code",
   "execution_count": 75,
   "metadata": {},
   "outputs": [
    {
     "name": "stdout",
     "output_type": "stream",
     "text": [
      "Score is  0.949614014404497\n",
      "\n",
      "\n",
      "Mean Absolute Error: 173.2099581936833\n",
      "Mean Squared Error: 64304.83893446473\n",
      "Root Mean Squared Error: 253.5839879299652\n",
      "R2 Score: 0.6699300699521362\n"
     ]
    }
   ],
   "source": [
    "rfr=RandomForestRegressor(n_estimators=150)\n",
    "rfr.fit(x_train,y_train)\n",
    "print(\"Score is \",rfr.score(x_train,y_train))\n",
    "pred=gbr.predict(x_test)\n",
    "print('\\n')\n",
    "print(\"Mean Absolute Error:\",mean_absolute_error(y_test,pred))\n",
    "print(\"Mean Squared Error:\",mean_squared_error(y_test,pred))\n",
    "print(\"Root Mean Squared Error:\",np.sqrt(mean_squared_error(y_test,pred)))\n",
    "print(\"R2 Score:\",r2_score(y_test,pred))"
   ]
  },
  {
   "cell_type": "markdown",
   "metadata": {},
   "source": [
    "# Cross Validation"
   ]
  },
  {
   "cell_type": "code",
   "execution_count": 76,
   "metadata": {},
   "outputs": [
    {
     "name": "stdout",
     "output_type": "stream",
     "text": [
      "[0.67369519 0.64539959 0.64277287 0.64880884 0.68087771]\n",
      "0.6583108394359076 0.015775668138941094\n"
     ]
    }
   ],
   "source": [
    "# cross validation\n",
    "\n",
    "from sklearn.model_selection import cross_val_score\n",
    "\n",
    "scores=cross_val_score(rfr,x,y,cv=5)\n",
    "print(scores)\n",
    "print(scores.mean(),scores.std())"
   ]
  },
  {
   "cell_type": "markdown",
   "metadata": {},
   "source": [
    "# Saving the Model"
   ]
  },
  {
   "cell_type": "code",
   "execution_count": 77,
   "metadata": {},
   "outputs": [
    {
     "data": {
      "text/plain": [
       "['Restaurant.pkl']"
      ]
     },
     "execution_count": 77,
     "metadata": {},
     "output_type": "execute_result"
    }
   ],
   "source": [
    "# saving the model\n",
    "\n",
    "import joblib\n",
    "joblib.dump(rfr,'Restaurant.pkl')"
   ]
  },
  {
   "cell_type": "markdown",
   "metadata": {},
   "source": [
    "# Preprocessing Of Testing Data"
   ]
  },
  {
   "cell_type": "code",
   "execution_count": 78,
   "metadata": {},
   "outputs": [
    {
     "data": {
      "text/html": [
       "<div>\n",
       "<style scoped>\n",
       "    .dataframe tbody tr th:only-of-type {\n",
       "        vertical-align: middle;\n",
       "    }\n",
       "\n",
       "    .dataframe tbody tr th {\n",
       "        vertical-align: top;\n",
       "    }\n",
       "\n",
       "    .dataframe thead th {\n",
       "        text-align: right;\n",
       "    }\n",
       "</style>\n",
       "<table border=\"1\" class=\"dataframe\">\n",
       "  <thead>\n",
       "    <tr style=\"text-align: right;\">\n",
       "      <th></th>\n",
       "      <th>TITLE</th>\n",
       "      <th>RESTAURANT_ID</th>\n",
       "      <th>CUISINES</th>\n",
       "      <th>TIME</th>\n",
       "      <th>CITY</th>\n",
       "      <th>LOCALITY</th>\n",
       "      <th>RATING</th>\n",
       "      <th>VOTES</th>\n",
       "    </tr>\n",
       "  </thead>\n",
       "  <tbody>\n",
       "    <tr>\n",
       "      <th>0</th>\n",
       "      <td>CASUAL DINING</td>\n",
       "      <td>4085</td>\n",
       "      <td>North Indian, Chinese, Mughlai, Kebab</td>\n",
       "      <td>12noon – 12midnight (Mon-Sun)</td>\n",
       "      <td>Noida</td>\n",
       "      <td>Sector 18</td>\n",
       "      <td>4.3</td>\n",
       "      <td>564 votes</td>\n",
       "    </tr>\n",
       "    <tr>\n",
       "      <th>1</th>\n",
       "      <td>QUICK BITES</td>\n",
       "      <td>12680</td>\n",
       "      <td>South Indian, Fast Food, Pizza, North Indian</td>\n",
       "      <td>7am – 12:30AM (Mon-Sun)</td>\n",
       "      <td>Mumbai</td>\n",
       "      <td>Grant Road</td>\n",
       "      <td>4.2</td>\n",
       "      <td>61 votes</td>\n",
       "    </tr>\n",
       "    <tr>\n",
       "      <th>2</th>\n",
       "      <td>CASUAL DINING</td>\n",
       "      <td>1411</td>\n",
       "      <td>North Indian, Seafood, Biryani, Chinese</td>\n",
       "      <td>11am – 11:30pm (Mon-Sun)</td>\n",
       "      <td>Mumbai</td>\n",
       "      <td>Marine Lines</td>\n",
       "      <td>3.8</td>\n",
       "      <td>350 votes</td>\n",
       "    </tr>\n",
       "    <tr>\n",
       "      <th>3</th>\n",
       "      <td>None</td>\n",
       "      <td>204</td>\n",
       "      <td>Biryani</td>\n",
       "      <td>9am – 10pm (Mon, Wed, Thu, Fri, Sat, Sun), 10:...</td>\n",
       "      <td>Faridabad</td>\n",
       "      <td>NIT</td>\n",
       "      <td>3.8</td>\n",
       "      <td>1445 votes</td>\n",
       "    </tr>\n",
       "    <tr>\n",
       "      <th>4</th>\n",
       "      <td>QUICK BITES</td>\n",
       "      <td>13453</td>\n",
       "      <td>South Indian, Kerala</td>\n",
       "      <td>11am – 10pm (Mon-Sun)</td>\n",
       "      <td>Kochi</td>\n",
       "      <td>Kaloor</td>\n",
       "      <td>3.6</td>\n",
       "      <td>23 votes</td>\n",
       "    </tr>\n",
       "    <tr>\n",
       "      <th>...</th>\n",
       "      <td>...</td>\n",
       "      <td>...</td>\n",
       "      <td>...</td>\n",
       "      <td>...</td>\n",
       "      <td>...</td>\n",
       "      <td>...</td>\n",
       "      <td>...</td>\n",
       "      <td>...</td>\n",
       "    </tr>\n",
       "    <tr>\n",
       "      <th>4226</th>\n",
       "      <td>CASUAL DINING</td>\n",
       "      <td>9057</td>\n",
       "      <td>North Indian, Mughlai, Chinese</td>\n",
       "      <td>11:30am – 11:30pm (Mon-Sun)</td>\n",
       "      <td>New Delhi</td>\n",
       "      <td>Punjabi Bagh</td>\n",
       "      <td>3.9</td>\n",
       "      <td>287 votes</td>\n",
       "    </tr>\n",
       "    <tr>\n",
       "      <th>4227</th>\n",
       "      <td>None</td>\n",
       "      <td>1247</td>\n",
       "      <td>Biryani, North Indian, Sandwich, Salad, Wraps</td>\n",
       "      <td>11am – 1am (Mon-Sun)</td>\n",
       "      <td>Bangalore</td>\n",
       "      <td>HSR Layout</td>\n",
       "      <td>4.3</td>\n",
       "      <td>469 votes</td>\n",
       "    </tr>\n",
       "    <tr>\n",
       "      <th>4228</th>\n",
       "      <td>QUICK BITES</td>\n",
       "      <td>8617</td>\n",
       "      <td>Continental, North Indian</td>\n",
       "      <td>9:30am – 10:30pm (Mon-Sun)</td>\n",
       "      <td>Faridabad</td>\n",
       "      <td>Sector 86</td>\n",
       "      <td>3.7</td>\n",
       "      <td>53 votes</td>\n",
       "    </tr>\n",
       "    <tr>\n",
       "      <th>4229</th>\n",
       "      <td>QUICK BITES</td>\n",
       "      <td>6485</td>\n",
       "      <td>Rolls, Beverages</td>\n",
       "      <td>11am – 11:30pm (Mon, Tue, Wed, Thu, Sat, Sun),...</td>\n",
       "      <td>Kochi</td>\n",
       "      <td>Kochi</td>\n",
       "      <td>-</td>\n",
       "      <td>NaN</td>\n",
       "    </tr>\n",
       "    <tr>\n",
       "      <th>4230</th>\n",
       "      <td>QUICK BITES</td>\n",
       "      <td>2421</td>\n",
       "      <td>Mughlai</td>\n",
       "      <td>5pm – 1am (Mon-Sun)</td>\n",
       "      <td>Bandra West</td>\n",
       "      <td>Perry Cross Road</td>\n",
       "      <td>3.7</td>\n",
       "      <td>63 votes</td>\n",
       "    </tr>\n",
       "  </tbody>\n",
       "</table>\n",
       "<p>4231 rows × 8 columns</p>\n",
       "</div>"
      ],
      "text/plain": [
       "              TITLE  RESTAURANT_ID  \\\n",
       "0     CASUAL DINING           4085   \n",
       "1       QUICK BITES          12680   \n",
       "2     CASUAL DINING           1411   \n",
       "3              None            204   \n",
       "4       QUICK BITES          13453   \n",
       "...             ...            ...   \n",
       "4226  CASUAL DINING           9057   \n",
       "4227           None           1247   \n",
       "4228    QUICK BITES           8617   \n",
       "4229    QUICK BITES           6485   \n",
       "4230    QUICK BITES           2421   \n",
       "\n",
       "                                           CUISINES  \\\n",
       "0             North Indian, Chinese, Mughlai, Kebab   \n",
       "1      South Indian, Fast Food, Pizza, North Indian   \n",
       "2           North Indian, Seafood, Biryani, Chinese   \n",
       "3                                           Biryani   \n",
       "4                              South Indian, Kerala   \n",
       "...                                             ...   \n",
       "4226                 North Indian, Mughlai, Chinese   \n",
       "4227  Biryani, North Indian, Sandwich, Salad, Wraps   \n",
       "4228                      Continental, North Indian   \n",
       "4229                               Rolls, Beverages   \n",
       "4230                                        Mughlai   \n",
       "\n",
       "                                                   TIME         CITY  \\\n",
       "0                         12noon – 12midnight (Mon-Sun)        Noida   \n",
       "1                               7am – 12:30AM (Mon-Sun)       Mumbai   \n",
       "2                              11am – 11:30pm (Mon-Sun)       Mumbai   \n",
       "3     9am – 10pm (Mon, Wed, Thu, Fri, Sat, Sun), 10:...    Faridabad   \n",
       "4                                 11am – 10pm (Mon-Sun)        Kochi   \n",
       "...                                                 ...          ...   \n",
       "4226                        11:30am – 11:30pm (Mon-Sun)    New Delhi   \n",
       "4227                               11am – 1am (Mon-Sun)    Bangalore   \n",
       "4228                         9:30am – 10:30pm (Mon-Sun)    Faridabad   \n",
       "4229  11am – 11:30pm (Mon, Tue, Wed, Thu, Sat, Sun),...        Kochi   \n",
       "4230                                5pm – 1am (Mon-Sun)  Bandra West   \n",
       "\n",
       "              LOCALITY RATING       VOTES  \n",
       "0            Sector 18    4.3   564 votes  \n",
       "1           Grant Road    4.2    61 votes  \n",
       "2         Marine Lines    3.8   350 votes  \n",
       "3                  NIT    3.8  1445 votes  \n",
       "4               Kaloor    3.6    23 votes  \n",
       "...                ...    ...         ...  \n",
       "4226      Punjabi Bagh    3.9   287 votes  \n",
       "4227        HSR Layout    4.3   469 votes  \n",
       "4228         Sector 86    3.7    53 votes  \n",
       "4229             Kochi      -         NaN  \n",
       "4230  Perry Cross Road    3.7    63 votes  \n",
       "\n",
       "[4231 rows x 8 columns]"
      ]
     },
     "execution_count": 78,
     "metadata": {},
     "output_type": "execute_result"
    }
   ],
   "source": [
    "test=pd.read_excel(\"Data_test.xlsx\")\n",
    "test\n"
   ]
  },
  {
   "cell_type": "code",
   "execution_count": 79,
   "metadata": {},
   "outputs": [
    {
     "data": {
      "text/plain": [
       "TITLE              0\n",
       "RESTAURANT_ID      0\n",
       "CUISINES           0\n",
       "TIME               0\n",
       "CITY              35\n",
       "LOCALITY          30\n",
       "RATING             2\n",
       "VOTES            402\n",
       "dtype: int64"
      ]
     },
     "execution_count": 79,
     "metadata": {},
     "output_type": "execute_result"
    }
   ],
   "source": [
    "test.isnull().sum()"
   ]
  },
  {
   "cell_type": "code",
   "execution_count": 80,
   "metadata": {},
   "outputs": [],
   "source": [
    "test[\"CITY\"] = test[\"CITY\"].fillna('NOTFOUND')\n",
    "test[\"LOCALITY\"] = test[\"LOCALITY\"].fillna('NOTFOUND')\n",
    "test[\"VOTES\"] = test[\"VOTES\"].fillna('0.0 Votes')\n"
   ]
  },
  {
   "cell_type": "code",
   "execution_count": 81,
   "metadata": {},
   "outputs": [],
   "source": [
    "test[\"RATING\"].replace(\"NEW\",0,inplace=True)\n",
    "test[\"RATING\"].replace(\"-\",0,inplace=True)\n",
    "test[\"RATING\"].fillna(0,inplace=True)"
   ]
  },
  {
   "cell_type": "code",
   "execution_count": 82,
   "metadata": {},
   "outputs": [
    {
     "data": {
      "text/plain": [
       "TITLE            0\n",
       "RESTAURANT_ID    0\n",
       "CUISINES         0\n",
       "TIME             0\n",
       "CITY             0\n",
       "LOCALITY         0\n",
       "RATING           0\n",
       "VOTES            0\n",
       "dtype: int64"
      ]
     },
     "execution_count": 82,
     "metadata": {},
     "output_type": "execute_result"
    }
   ],
   "source": [
    "test.isnull().sum()"
   ]
  },
  {
   "cell_type": "code",
   "execution_count": 83,
   "metadata": {},
   "outputs": [],
   "source": [
    "test.drop('RESTAURANT_ID',axis=1,inplace=True)"
   ]
  },
  {
   "cell_type": "code",
   "execution_count": 84,
   "metadata": {},
   "outputs": [],
   "source": [
    "test[\"VOTES\"]=test[\"VOTES\"].map(lambda x:x.split(' ')[0])"
   ]
  },
  {
   "cell_type": "code",
   "execution_count": 85,
   "metadata": {},
   "outputs": [],
   "source": [
    "test.drop('TIME',axis=1,inplace=True)"
   ]
  },
  {
   "cell_type": "code",
   "execution_count": 86,
   "metadata": {},
   "outputs": [],
   "source": [
    "def imput_cus(x):\n",
    "    fnd=x.count(',')\n",
    "    return int(fnd+1)"
   ]
  },
  {
   "cell_type": "code",
   "execution_count": 87,
   "metadata": {},
   "outputs": [],
   "source": [
    "test['CUISINES']=test.apply(lambda x : imput_cus(x['CUISINES']),axis=1)"
   ]
  },
  {
   "cell_type": "code",
   "execution_count": 88,
   "metadata": {},
   "outputs": [
    {
     "data": {
      "text/html": [
       "<div>\n",
       "<style scoped>\n",
       "    .dataframe tbody tr th:only-of-type {\n",
       "        vertical-align: middle;\n",
       "    }\n",
       "\n",
       "    .dataframe tbody tr th {\n",
       "        vertical-align: top;\n",
       "    }\n",
       "\n",
       "    .dataframe thead th {\n",
       "        text-align: right;\n",
       "    }\n",
       "</style>\n",
       "<table border=\"1\" class=\"dataframe\">\n",
       "  <thead>\n",
       "    <tr style=\"text-align: right;\">\n",
       "      <th></th>\n",
       "      <th>TITLE</th>\n",
       "      <th>CUISINES</th>\n",
       "      <th>CITY</th>\n",
       "      <th>LOCALITY</th>\n",
       "      <th>RATING</th>\n",
       "      <th>VOTES</th>\n",
       "    </tr>\n",
       "  </thead>\n",
       "  <tbody>\n",
       "    <tr>\n",
       "      <th>0</th>\n",
       "      <td>CASUAL DINING</td>\n",
       "      <td>4</td>\n",
       "      <td>Noida</td>\n",
       "      <td>Sector 18</td>\n",
       "      <td>4.3</td>\n",
       "      <td>564</td>\n",
       "    </tr>\n",
       "    <tr>\n",
       "      <th>1</th>\n",
       "      <td>QUICK BITES</td>\n",
       "      <td>4</td>\n",
       "      <td>Mumbai</td>\n",
       "      <td>Grant Road</td>\n",
       "      <td>4.2</td>\n",
       "      <td>61</td>\n",
       "    </tr>\n",
       "    <tr>\n",
       "      <th>2</th>\n",
       "      <td>CASUAL DINING</td>\n",
       "      <td>4</td>\n",
       "      <td>Mumbai</td>\n",
       "      <td>Marine Lines</td>\n",
       "      <td>3.8</td>\n",
       "      <td>350</td>\n",
       "    </tr>\n",
       "    <tr>\n",
       "      <th>3</th>\n",
       "      <td>None</td>\n",
       "      <td>1</td>\n",
       "      <td>Faridabad</td>\n",
       "      <td>NIT</td>\n",
       "      <td>3.8</td>\n",
       "      <td>1445</td>\n",
       "    </tr>\n",
       "    <tr>\n",
       "      <th>4</th>\n",
       "      <td>QUICK BITES</td>\n",
       "      <td>2</td>\n",
       "      <td>Kochi</td>\n",
       "      <td>Kaloor</td>\n",
       "      <td>3.6</td>\n",
       "      <td>23</td>\n",
       "    </tr>\n",
       "    <tr>\n",
       "      <th>...</th>\n",
       "      <td>...</td>\n",
       "      <td>...</td>\n",
       "      <td>...</td>\n",
       "      <td>...</td>\n",
       "      <td>...</td>\n",
       "      <td>...</td>\n",
       "    </tr>\n",
       "    <tr>\n",
       "      <th>4226</th>\n",
       "      <td>CASUAL DINING</td>\n",
       "      <td>3</td>\n",
       "      <td>New Delhi</td>\n",
       "      <td>Punjabi Bagh</td>\n",
       "      <td>3.9</td>\n",
       "      <td>287</td>\n",
       "    </tr>\n",
       "    <tr>\n",
       "      <th>4227</th>\n",
       "      <td>None</td>\n",
       "      <td>5</td>\n",
       "      <td>Bangalore</td>\n",
       "      <td>HSR Layout</td>\n",
       "      <td>4.3</td>\n",
       "      <td>469</td>\n",
       "    </tr>\n",
       "    <tr>\n",
       "      <th>4228</th>\n",
       "      <td>QUICK BITES</td>\n",
       "      <td>2</td>\n",
       "      <td>Faridabad</td>\n",
       "      <td>Sector 86</td>\n",
       "      <td>3.7</td>\n",
       "      <td>53</td>\n",
       "    </tr>\n",
       "    <tr>\n",
       "      <th>4229</th>\n",
       "      <td>QUICK BITES</td>\n",
       "      <td>2</td>\n",
       "      <td>Kochi</td>\n",
       "      <td>Kochi</td>\n",
       "      <td>0</td>\n",
       "      <td>0.0</td>\n",
       "    </tr>\n",
       "    <tr>\n",
       "      <th>4230</th>\n",
       "      <td>QUICK BITES</td>\n",
       "      <td>1</td>\n",
       "      <td>Bandra West</td>\n",
       "      <td>Perry Cross Road</td>\n",
       "      <td>3.7</td>\n",
       "      <td>63</td>\n",
       "    </tr>\n",
       "  </tbody>\n",
       "</table>\n",
       "<p>4231 rows × 6 columns</p>\n",
       "</div>"
      ],
      "text/plain": [
       "              TITLE  CUISINES         CITY          LOCALITY RATING VOTES\n",
       "0     CASUAL DINING         4        Noida         Sector 18    4.3   564\n",
       "1       QUICK BITES         4       Mumbai        Grant Road    4.2    61\n",
       "2     CASUAL DINING         4       Mumbai      Marine Lines    3.8   350\n",
       "3              None         1    Faridabad               NIT    3.8  1445\n",
       "4       QUICK BITES         2        Kochi            Kaloor    3.6    23\n",
       "...             ...       ...          ...               ...    ...   ...\n",
       "4226  CASUAL DINING         3    New Delhi      Punjabi Bagh    3.9   287\n",
       "4227           None         5    Bangalore        HSR Layout    4.3   469\n",
       "4228    QUICK BITES         2    Faridabad         Sector 86    3.7    53\n",
       "4229    QUICK BITES         2        Kochi             Kochi      0   0.0\n",
       "4230    QUICK BITES         1  Bandra West  Perry Cross Road    3.7    63\n",
       "\n",
       "[4231 rows x 6 columns]"
      ]
     },
     "execution_count": 88,
     "metadata": {},
     "output_type": "execute_result"
    }
   ],
   "source": [
    "test"
   ]
  },
  {
   "cell_type": "code",
   "execution_count": 89,
   "metadata": {},
   "outputs": [],
   "source": [
    "from sklearn.preprocessing import LabelEncoder\n",
    "le=LabelEncoder()\n",
    "list=['CITY','LOCALITY','TITLE']\n",
    "for val in list:\n",
    "    test[val]=le.fit_transform(test[val].astype(str))"
   ]
  },
  {
   "cell_type": "code",
   "execution_count": 90,
   "metadata": {},
   "outputs": [
    {
     "data": {
      "text/html": [
       "<div>\n",
       "<style scoped>\n",
       "    .dataframe tbody tr th:only-of-type {\n",
       "        vertical-align: middle;\n",
       "    }\n",
       "\n",
       "    .dataframe tbody tr th {\n",
       "        vertical-align: top;\n",
       "    }\n",
       "\n",
       "    .dataframe thead th {\n",
       "        text-align: right;\n",
       "    }\n",
       "</style>\n",
       "<table border=\"1\" class=\"dataframe\">\n",
       "  <thead>\n",
       "    <tr style=\"text-align: right;\">\n",
       "      <th></th>\n",
       "      <th>TITLE</th>\n",
       "      <th>CUISINES</th>\n",
       "      <th>CITY</th>\n",
       "      <th>LOCALITY</th>\n",
       "      <th>RATING</th>\n",
       "      <th>VOTES</th>\n",
       "    </tr>\n",
       "  </thead>\n",
       "  <tbody>\n",
       "    <tr>\n",
       "      <th>0</th>\n",
       "      <td>23</td>\n",
       "      <td>4</td>\n",
       "      <td>111</td>\n",
       "      <td>663</td>\n",
       "      <td>4.3</td>\n",
       "      <td>564</td>\n",
       "    </tr>\n",
       "    <tr>\n",
       "      <th>1</th>\n",
       "      <td>75</td>\n",
       "      <td>4</td>\n",
       "      <td>96</td>\n",
       "      <td>221</td>\n",
       "      <td>4.2</td>\n",
       "      <td>61</td>\n",
       "    </tr>\n",
       "    <tr>\n",
       "      <th>2</th>\n",
       "      <td>23</td>\n",
       "      <td>4</td>\n",
       "      <td>96</td>\n",
       "      <td>411</td>\n",
       "      <td>3.8</td>\n",
       "      <td>350</td>\n",
       "    </tr>\n",
       "    <tr>\n",
       "      <th>3</th>\n",
       "      <td>66</td>\n",
       "      <td>1</td>\n",
       "      <td>41</td>\n",
       "      <td>456</td>\n",
       "      <td>3.8</td>\n",
       "      <td>1445</td>\n",
       "    </tr>\n",
       "    <tr>\n",
       "      <th>4</th>\n",
       "      <td>75</td>\n",
       "      <td>2</td>\n",
       "      <td>78</td>\n",
       "      <td>300</td>\n",
       "      <td>3.6</td>\n",
       "      <td>23</td>\n",
       "    </tr>\n",
       "    <tr>\n",
       "      <th>...</th>\n",
       "      <td>...</td>\n",
       "      <td>...</td>\n",
       "      <td>...</td>\n",
       "      <td>...</td>\n",
       "      <td>...</td>\n",
       "      <td>...</td>\n",
       "    </tr>\n",
       "    <tr>\n",
       "      <th>4226</th>\n",
       "      <td>23</td>\n",
       "      <td>3</td>\n",
       "      <td>109</td>\n",
       "      <td>598</td>\n",
       "      <td>3.9</td>\n",
       "      <td>287</td>\n",
       "    </tr>\n",
       "    <tr>\n",
       "      <th>4227</th>\n",
       "      <td>66</td>\n",
       "      <td>5</td>\n",
       "      <td>9</td>\n",
       "      <td>237</td>\n",
       "      <td>4.3</td>\n",
       "      <td>469</td>\n",
       "    </tr>\n",
       "    <tr>\n",
       "      <th>4228</th>\n",
       "      <td>75</td>\n",
       "      <td>2</td>\n",
       "      <td>41</td>\n",
       "      <td>697</td>\n",
       "      <td>3.7</td>\n",
       "      <td>53</td>\n",
       "    </tr>\n",
       "    <tr>\n",
       "      <th>4229</th>\n",
       "      <td>75</td>\n",
       "      <td>2</td>\n",
       "      <td>78</td>\n",
       "      <td>332</td>\n",
       "      <td>0</td>\n",
       "      <td>0.0</td>\n",
       "    </tr>\n",
       "    <tr>\n",
       "      <th>4230</th>\n",
       "      <td>75</td>\n",
       "      <td>1</td>\n",
       "      <td>8</td>\n",
       "      <td>581</td>\n",
       "      <td>3.7</td>\n",
       "      <td>63</td>\n",
       "    </tr>\n",
       "  </tbody>\n",
       "</table>\n",
       "<p>4231 rows × 6 columns</p>\n",
       "</div>"
      ],
      "text/plain": [
       "      TITLE  CUISINES  CITY  LOCALITY RATING VOTES\n",
       "0        23         4   111       663    4.3   564\n",
       "1        75         4    96       221    4.2    61\n",
       "2        23         4    96       411    3.8   350\n",
       "3        66         1    41       456    3.8  1445\n",
       "4        75         2    78       300    3.6    23\n",
       "...     ...       ...   ...       ...    ...   ...\n",
       "4226     23         3   109       598    3.9   287\n",
       "4227     66         5     9       237    4.3   469\n",
       "4228     75         2    41       697    3.7    53\n",
       "4229     75         2    78       332      0   0.0\n",
       "4230     75         1     8       581    3.7    63\n",
       "\n",
       "[4231 rows x 6 columns]"
      ]
     },
     "execution_count": 90,
     "metadata": {},
     "output_type": "execute_result"
    }
   ],
   "source": [
    "test"
   ]
  },
  {
   "cell_type": "markdown",
   "metadata": {},
   "source": [
    "# EDA"
   ]
  },
  {
   "cell_type": "code",
   "execution_count": 91,
   "metadata": {},
   "outputs": [
    {
     "data": {
      "image/png": "[encoded data removed]",
      "text/plain": [
       "<Figure size 288x288 with 2 Axes>"
      ]
     },
     "metadata": {
      "needs_background": "light"
     },
     "output_type": "display_data"
    }
   ],
   "source": [
    "# heatmap correlation\n",
    "import seaborn as sns\n",
    "corr_hmap=test.corr()\n",
    "plt.figure(figsize=(4,4))\n",
    "sns.heatmap(corr_hmap,annot=True)\n",
    "plt.show()"
   ]
  },
  {
   "cell_type": "code",
   "execution_count": 92,
   "metadata": {},
   "outputs": [
    {
     "data": {
      "text/plain": [
       "TITLE          AxesSubplot(0.125,0.772143;0.110714x0.107857)\n",
       "CUISINES    AxesSubplot(0.257857,0.772143;0.110714x0.107857)\n",
       "CITY        AxesSubplot(0.390714,0.772143;0.110714x0.107857)\n",
       "LOCALITY    AxesSubplot(0.523571,0.772143;0.110714x0.107857)\n",
       "dtype: object"
      ]
     },
     "execution_count": 92,
     "metadata": {},
     "output_type": "execute_result"
    },
    {
     "data": {
      "image/png": "[encoded data removed]",
      "text/plain": [
       "<Figure size 432x288 with 36 Axes>"
      ]
     },
     "metadata": {
      "needs_background": "light"
     },
     "output_type": "display_data"
    }
   ],
   "source": [
    "#checking Outliers\n",
    "test.plot.box(subplots=True,layout=(6,6))"
   ]
  },
  {
   "cell_type": "code",
   "execution_count": 99,
   "metadata": {},
   "outputs": [],
   "source": [
    "test['RATING']=test['RATING'].astype(float)\n",
    "test['VOTES']=test['VOTES'].astype(float)"
   ]
  },
  {
   "cell_type": "code",
   "execution_count": 100,
   "metadata": {},
   "outputs": [
    {
     "name": "stdout",
     "output_type": "stream",
     "text": [
      "(4231, 6)\n",
      "(4085, 6)\n"
     ]
    }
   ],
   "source": [
    "# removing outliers\n",
    "\n",
    "from scipy.stats import zscore\n",
    "\n",
    "z=np.abs(zscore(test))\n",
    "print(test.shape)\n",
    "test=test.loc[(z<3).all(axis=1)]\n",
    "print(test.shape)"
   ]
  },
  {
   "cell_type": "code",
   "execution_count": 101,
   "metadata": {},
   "outputs": [
    {
     "data": {
      "text/plain": [
       "TITLE      -0.051937\n",
       "CUISINES    0.651316\n",
       "CITY        0.068269\n",
       "LOCALITY    0.295391\n",
       "RATING     -2.159778\n",
       "VOTES       2.520112\n",
       "dtype: float64"
      ]
     },
     "execution_count": 101,
     "metadata": {},
     "output_type": "execute_result"
    }
   ],
   "source": [
    "test.skew()"
   ]
  },
  {
   "cell_type": "code",
   "execution_count": 102,
   "metadata": {},
   "outputs": [],
   "source": [
    "test.skew()\n",
    "for col in test.skew().index:\n",
    "    if col in test.describe().columns:\n",
    "        if test[col].skew()>0.55:\n",
    "            test[col]=np.sqrt(test[col])\n",
    "        if test[col].skew()<-0.55:\n",
    "            test[col]=np.cbrt(test[col])"
   ]
  },
  {
   "cell_type": "code",
   "execution_count": 103,
   "metadata": {},
   "outputs": [
    {
     "data": {
      "text/plain": [
       "TITLE      -0.051937\n",
       "CUISINES    0.194415\n",
       "CITY        0.068269\n",
       "LOCALITY    0.295391\n",
       "RATING     -2.629981\n",
       "VOTES       1.022456\n",
       "dtype: float64"
      ]
     },
     "execution_count": 103,
     "metadata": {},
     "output_type": "execute_result"
    }
   ],
   "source": [
    "test.skew()"
   ]
  },
  {
   "cell_type": "markdown",
   "metadata": {},
   "source": [
    "# Putting Test Data in Model"
   ]
  },
  {
   "cell_type": "code",
   "execution_count": 104,
   "metadata": {},
   "outputs": [
    {
     "data": {
      "text/plain": [
       "array([523.        , 523.        , 523.        , ..., 493.33333333,\n",
       "       432.33333333, 489.66666667])"
      ]
     },
     "execution_count": 104,
     "metadata": {},
     "output_type": "execute_result"
    }
   ],
   "source": [
    "#Now we put test data in our model\n",
    "rfr.predict(test)"
   ]
  },
  {
   "cell_type": "code",
   "execution_count": null,
   "metadata": {},
   "outputs": [],
   "source": []
  }
 ],
 "metadata": {
  "kernelspec": {
   "display_name": "Python 3",
   "language": "python",
   "name": "python3"
  },
  "language_info": {
   "codemirror_mode": {
    "name": "ipython",
    "version": 3
   },
   "file_extension": ".py",
   "mimetype": "text/x-python",
   "name": "python",
   "nbconvert_exporter": "python",
   "pygments_lexer": "ipython3",
   "version": "3.8.3"
  }
 },
 "nbformat": 4,
 "nbformat_minor": 4
}
