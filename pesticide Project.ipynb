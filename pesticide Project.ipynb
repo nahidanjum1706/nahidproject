{
 "cells": [
  {
   "cell_type": "markdown",
   "metadata": {},
   "source": [
    "# Pesticide Project (Classification)"
   ]
  },
  {
   "cell_type": "markdown",
   "metadata": {},
   "source": [
    "Table of Contents\n",
    "1.  Data Preprocessing\n",
    "2.  Data Visualization\n",
    "3.  EDA\n",
    "4.  Splitting & Sending data to model\n",
    "5.  Using Ensemble techniques\n",
    "6.  Using GridsearchCV\n",
    "7.  Best Model\n",
    "8.  Cross Validation\n",
    "9.  Saving the Model\n",
    "10. Test data preprocessing\n",
    "11. Test data EDA\n",
    "12. Puting Test data in best model"
   ]
  },
  {
   "cell_type": "markdown",
   "metadata": {},
   "source": [
    "# Data Preprocessing"
   ]
  },
  {
   "cell_type": "code",
   "execution_count": 1,
   "metadata": {},
   "outputs": [],
   "source": [
    "import numpy as np\n",
    "import pandas as pd\n",
    "import matplotlib.pyplot as plt\n",
    "import seaborn as sns\n",
    "import warnings\n",
    "warnings.filterwarnings('ignore')"
   ]
  },
  {
   "cell_type": "code",
   "execution_count": 2,
   "metadata": {},
   "outputs": [
    {
     "data": {
      "text/html": [
       "<div>\n",
       "<style scoped>\n",
       "    .dataframe tbody tr th:only-of-type {\n",
       "        vertical-align: middle;\n",
       "    }\n",
       "\n",
       "    .dataframe tbody tr th {\n",
       "        vertical-align: top;\n",
       "    }\n",
       "\n",
       "    .dataframe thead th {\n",
       "        text-align: right;\n",
       "    }\n",
       "</style>\n",
       "<table border=\"1\" class=\"dataframe\">\n",
       "  <thead>\n",
       "    <tr style=\"text-align: right;\">\n",
       "      <th></th>\n",
       "      <th>ID</th>\n",
       "      <th>Estimated_Insects_Count</th>\n",
       "      <th>Crop_Type</th>\n",
       "      <th>Soil_Type</th>\n",
       "      <th>Pesticide_Use_Category</th>\n",
       "      <th>Number_Doses_Week</th>\n",
       "      <th>Number_Weeks_Used</th>\n",
       "      <th>Number_Weeks_Quit</th>\n",
       "      <th>Season</th>\n",
       "      <th>Crop_Damage</th>\n",
       "    </tr>\n",
       "  </thead>\n",
       "  <tbody>\n",
       "    <tr>\n",
       "      <th>0</th>\n",
       "      <td>F00000001</td>\n",
       "      <td>188</td>\n",
       "      <td>1</td>\n",
       "      <td>0</td>\n",
       "      <td>1</td>\n",
       "      <td>0</td>\n",
       "      <td>0.0</td>\n",
       "      <td>0</td>\n",
       "      <td>1</td>\n",
       "      <td>0</td>\n",
       "    </tr>\n",
       "    <tr>\n",
       "      <th>1</th>\n",
       "      <td>F00000003</td>\n",
       "      <td>209</td>\n",
       "      <td>1</td>\n",
       "      <td>0</td>\n",
       "      <td>1</td>\n",
       "      <td>0</td>\n",
       "      <td>0.0</td>\n",
       "      <td>0</td>\n",
       "      <td>2</td>\n",
       "      <td>1</td>\n",
       "    </tr>\n",
       "    <tr>\n",
       "      <th>2</th>\n",
       "      <td>F00000004</td>\n",
       "      <td>257</td>\n",
       "      <td>1</td>\n",
       "      <td>0</td>\n",
       "      <td>1</td>\n",
       "      <td>0</td>\n",
       "      <td>0.0</td>\n",
       "      <td>0</td>\n",
       "      <td>2</td>\n",
       "      <td>1</td>\n",
       "    </tr>\n",
       "    <tr>\n",
       "      <th>3</th>\n",
       "      <td>F00000005</td>\n",
       "      <td>257</td>\n",
       "      <td>1</td>\n",
       "      <td>1</td>\n",
       "      <td>1</td>\n",
       "      <td>0</td>\n",
       "      <td>0.0</td>\n",
       "      <td>0</td>\n",
       "      <td>2</td>\n",
       "      <td>1</td>\n",
       "    </tr>\n",
       "    <tr>\n",
       "      <th>4</th>\n",
       "      <td>F00000006</td>\n",
       "      <td>342</td>\n",
       "      <td>1</td>\n",
       "      <td>0</td>\n",
       "      <td>1</td>\n",
       "      <td>0</td>\n",
       "      <td>0.0</td>\n",
       "      <td>0</td>\n",
       "      <td>2</td>\n",
       "      <td>1</td>\n",
       "    </tr>\n",
       "    <tr>\n",
       "      <th>...</th>\n",
       "      <td>...</td>\n",
       "      <td>...</td>\n",
       "      <td>...</td>\n",
       "      <td>...</td>\n",
       "      <td>...</td>\n",
       "      <td>...</td>\n",
       "      <td>...</td>\n",
       "      <td>...</td>\n",
       "      <td>...</td>\n",
       "      <td>...</td>\n",
       "    </tr>\n",
       "    <tr>\n",
       "      <th>88853</th>\n",
       "      <td>F00155935</td>\n",
       "      <td>3337</td>\n",
       "      <td>1</td>\n",
       "      <td>0</td>\n",
       "      <td>2</td>\n",
       "      <td>10</td>\n",
       "      <td>12.0</td>\n",
       "      <td>44</td>\n",
       "      <td>3</td>\n",
       "      <td>0</td>\n",
       "    </tr>\n",
       "    <tr>\n",
       "      <th>88854</th>\n",
       "      <td>F00155938</td>\n",
       "      <td>3516</td>\n",
       "      <td>1</td>\n",
       "      <td>0</td>\n",
       "      <td>2</td>\n",
       "      <td>10</td>\n",
       "      <td>20.0</td>\n",
       "      <td>38</td>\n",
       "      <td>1</td>\n",
       "      <td>0</td>\n",
       "    </tr>\n",
       "    <tr>\n",
       "      <th>88855</th>\n",
       "      <td>F00155939</td>\n",
       "      <td>3516</td>\n",
       "      <td>1</td>\n",
       "      <td>0</td>\n",
       "      <td>2</td>\n",
       "      <td>15</td>\n",
       "      <td>40.0</td>\n",
       "      <td>8</td>\n",
       "      <td>2</td>\n",
       "      <td>0</td>\n",
       "    </tr>\n",
       "    <tr>\n",
       "      <th>88856</th>\n",
       "      <td>F00155942</td>\n",
       "      <td>3702</td>\n",
       "      <td>1</td>\n",
       "      <td>0</td>\n",
       "      <td>2</td>\n",
       "      <td>10</td>\n",
       "      <td>25.0</td>\n",
       "      <td>18</td>\n",
       "      <td>3</td>\n",
       "      <td>0</td>\n",
       "    </tr>\n",
       "    <tr>\n",
       "      <th>88857</th>\n",
       "      <td>F00155945</td>\n",
       "      <td>3895</td>\n",
       "      <td>1</td>\n",
       "      <td>0</td>\n",
       "      <td>2</td>\n",
       "      <td>20</td>\n",
       "      <td>37.0</td>\n",
       "      <td>7</td>\n",
       "      <td>3</td>\n",
       "      <td>0</td>\n",
       "    </tr>\n",
       "  </tbody>\n",
       "</table>\n",
       "<p>88858 rows × 10 columns</p>\n",
       "</div>"
      ],
      "text/plain": [
       "              ID  Estimated_Insects_Count  Crop_Type  Soil_Type  \\\n",
       "0      F00000001                      188          1          0   \n",
       "1      F00000003                      209          1          0   \n",
       "2      F00000004                      257          1          0   \n",
       "3      F00000005                      257          1          1   \n",
       "4      F00000006                      342          1          0   \n",
       "...          ...                      ...        ...        ...   \n",
       "88853  F00155935                     3337          1          0   \n",
       "88854  F00155938                     3516          1          0   \n",
       "88855  F00155939                     3516          1          0   \n",
       "88856  F00155942                     3702          1          0   \n",
       "88857  F00155945                     3895          1          0   \n",
       "\n",
       "       Pesticide_Use_Category  Number_Doses_Week  Number_Weeks_Used  \\\n",
       "0                           1                  0                0.0   \n",
       "1                           1                  0                0.0   \n",
       "2                           1                  0                0.0   \n",
       "3                           1                  0                0.0   \n",
       "4                           1                  0                0.0   \n",
       "...                       ...                ...                ...   \n",
       "88853                       2                 10               12.0   \n",
       "88854                       2                 10               20.0   \n",
       "88855                       2                 15               40.0   \n",
       "88856                       2                 10               25.0   \n",
       "88857                       2                 20               37.0   \n",
       "\n",
       "       Number_Weeks_Quit  Season  Crop_Damage  \n",
       "0                      0       1            0  \n",
       "1                      0       2            1  \n",
       "2                      0       2            1  \n",
       "3                      0       2            1  \n",
       "4                      0       2            1  \n",
       "...                  ...     ...          ...  \n",
       "88853                 44       3            0  \n",
       "88854                 38       1            0  \n",
       "88855                  8       2            0  \n",
       "88856                 18       3            0  \n",
       "88857                  7       3            0  \n",
       "\n",
       "[88858 rows x 10 columns]"
      ]
     },
     "execution_count": 2,
     "metadata": {},
     "output_type": "execute_result"
    }
   ],
   "source": [
    "df=pd.read_csv(\"train_agri.csv\")\n",
    "df"
   ]
  },
  {
   "cell_type": "code",
   "execution_count": 3,
   "metadata": {},
   "outputs": [
    {
     "data": {
      "text/plain": [
       "0    74238\n",
       "1    12307\n",
       "2     2313\n",
       "Name: Crop_Damage, dtype: int64"
      ]
     },
     "execution_count": 3,
     "metadata": {},
     "output_type": "execute_result"
    }
   ],
   "source": [
    "df['Crop_Damage'].value_counts()"
   ]
  },
  {
   "cell_type": "code",
   "execution_count": 4,
   "metadata": {},
   "outputs": [
    {
     "data": {
      "text/plain": [
       "ID                          object\n",
       "Estimated_Insects_Count      int64\n",
       "Crop_Type                    int64\n",
       "Soil_Type                    int64\n",
       "Pesticide_Use_Category       int64\n",
       "Number_Doses_Week            int64\n",
       "Number_Weeks_Used          float64\n",
       "Number_Weeks_Quit            int64\n",
       "Season                       int64\n",
       "Crop_Damage                  int64\n",
       "dtype: object"
      ]
     },
     "execution_count": 4,
     "metadata": {},
     "output_type": "execute_result"
    }
   ],
   "source": [
    "df.dtypes"
   ]
  },
  {
   "cell_type": "code",
   "execution_count": 5,
   "metadata": {},
   "outputs": [
    {
     "data": {
      "text/plain": [
       "ID                            0\n",
       "Estimated_Insects_Count       0\n",
       "Crop_Type                     0\n",
       "Soil_Type                     0\n",
       "Pesticide_Use_Category        0\n",
       "Number_Doses_Week             0\n",
       "Number_Weeks_Used          9000\n",
       "Number_Weeks_Quit             0\n",
       "Season                        0\n",
       "Crop_Damage                   0\n",
       "dtype: int64"
      ]
     },
     "execution_count": 5,
     "metadata": {},
     "output_type": "execute_result"
    }
   ],
   "source": [
    "df.isnull().sum()"
   ]
  },
  {
   "cell_type": "markdown",
   "metadata": {},
   "source": [
    "we have Null values in one column . we can fill that with mean"
   ]
  },
  {
   "cell_type": "code",
   "execution_count": 6,
   "metadata": {},
   "outputs": [],
   "source": [
    "df['Number_Weeks_Used'].fillna(int(df['Number_Weeks_Used'].mean()), inplace=True)"
   ]
  },
  {
   "cell_type": "code",
   "execution_count": 7,
   "metadata": {},
   "outputs": [
    {
     "data": {
      "text/plain": [
       "ID                         0\n",
       "Estimated_Insects_Count    0\n",
       "Crop_Type                  0\n",
       "Soil_Type                  0\n",
       "Pesticide_Use_Category     0\n",
       "Number_Doses_Week          0\n",
       "Number_Weeks_Used          0\n",
       "Number_Weeks_Quit          0\n",
       "Season                     0\n",
       "Crop_Damage                0\n",
       "dtype: int64"
      ]
     },
     "execution_count": 7,
     "metadata": {},
     "output_type": "execute_result"
    }
   ],
   "source": [
    "df.isnull().sum()"
   ]
  },
  {
   "cell_type": "markdown",
   "metadata": {},
   "source": [
    "# Data Visualization"
   ]
  },
  {
   "cell_type": "code",
   "execution_count": 8,
   "metadata": {},
   "outputs": [
    {
     "data": {
      "text/plain": [
       "<function matplotlib.pyplot.show(*args, **kw)>"
      ]
     },
     "execution_count": 8,
     "metadata": {},
     "output_type": "execute_result"
    },
    {
     "data": {
      "image/png": "[encoded data removed]",
      "text/plain": [
       "<Figure size 432x288 with 1 Axes>"
      ]
     },
     "metadata": {
      "needs_background": "light"
     },
     "output_type": "display_data"
    }
   ],
   "source": [
    "sns.countplot(x=\"Pesticide_Use_Category\",data=df)\n",
    "plt.show\n",
    "#its clear from below graph that 2nd type of Pestiside has been used more often"
   ]
  },
  {
   "cell_type": "code",
   "execution_count": 9,
   "metadata": {},
   "outputs": [
    {
     "data": {
      "text/plain": [
       "<function matplotlib.pyplot.show(*args, **kw)>"
      ]
     },
     "execution_count": 9,
     "metadata": {},
     "output_type": "execute_result"
    },
    {
     "data": {
      "image/png": "[encoded data removed]",
      "text/plain": [
       "<Figure size 432x288 with 1 Axes>"
      ]
     },
     "metadata": {
      "needs_background": "light"
     },
     "output_type": "display_data"
    }
   ],
   "source": [
    "sns.countplot(x=\"Soil_Type\",data=df)\n",
    "plt.show\n",
    "#we can say that there are only two type of soil and there is little differce in total area"
   ]
  },
  {
   "cell_type": "code",
   "execution_count": 10,
   "metadata": {},
   "outputs": [
    {
     "data": {
      "text/plain": [
       "<function matplotlib.pyplot.show(*args, **kw)>"
      ]
     },
     "execution_count": 10,
     "metadata": {},
     "output_type": "execute_result"
    },
    {
     "data": {
      "image/png": "[encoded data removed]",
      "text/plain": [
       "<Figure size 432x288 with 1 Axes>"
      ]
     },
     "metadata": {
      "needs_background": "light"
     },
     "output_type": "display_data"
    }
   ],
   "source": [
    "sns.countplot(x=\"Number_Doses_Week\",data=df)\n",
    "plt.show\n"
   ]
  },
  {
   "cell_type": "markdown",
   "metadata": {},
   "source": [
    "There are clear visible variation in number of doses per week. Most have chosen 20 doses . Only few of farmers have gone for high Doses "
   ]
  },
  {
   "cell_type": "code",
   "execution_count": 11,
   "metadata": {},
   "outputs": [
    {
     "data": {
      "text/plain": [
       "<function matplotlib.pyplot.show(*args, **kw)>"
      ]
     },
     "execution_count": 11,
     "metadata": {},
     "output_type": "execute_result"
    },
    {
     "data": {
      "image/png": "[encoded data removed]",
      "text/plain": [
       "<Figure size 432x288 with 1 Axes>"
      ]
     },
     "metadata": {
      "needs_background": "light"
     },
     "output_type": "display_data"
    }
   ],
   "source": [
    "sns.countplot(x=\"Season\",data=df)\n",
    "plt.show\n",
    "#it is clear that most have opted pesticide for two seasons. There are less farmers who opted for 3 seasons"
   ]
  },
  {
   "cell_type": "code",
   "execution_count": 12,
   "metadata": {},
   "outputs": [
    {
     "data": {
      "text/plain": [
       "<function matplotlib.pyplot.show(*args, **kw)>"
      ]
     },
     "execution_count": 12,
     "metadata": {},
     "output_type": "execute_result"
    },
    {
     "data": {
      "image/png": "[encoded data removed]",
      "text/plain": [
       "<Figure size 432x288 with 1 Axes>"
      ]
     },
     "metadata": {
      "needs_background": "light"
     },
     "output_type": "display_data"
    }
   ],
   "source": [
    "sns.countplot(x=\"Crop_Damage\",data=df)\n",
    "plt.show"
   ]
  },
  {
   "cell_type": "markdown",
   "metadata": {},
   "source": [
    "We can see from above plot that there are mostly no damage of Crop. Some had faced one season damage and a little had faced two seasons damage. but there is no one who had faced all 3 seasons damage"
   ]
  },
  {
   "cell_type": "code",
   "execution_count": 13,
   "metadata": {},
   "outputs": [
    {
     "data": {
      "text/plain": [
       "ID                          object\n",
       "Estimated_Insects_Count      int64\n",
       "Crop_Type                    int64\n",
       "Soil_Type                    int64\n",
       "Pesticide_Use_Category       int64\n",
       "Number_Doses_Week            int64\n",
       "Number_Weeks_Used          float64\n",
       "Number_Weeks_Quit            int64\n",
       "Season                       int64\n",
       "Crop_Damage                  int64\n",
       "dtype: object"
      ]
     },
     "execution_count": 13,
     "metadata": {},
     "output_type": "execute_result"
    }
   ],
   "source": [
    "df.dtypes"
   ]
  },
  {
   "cell_type": "code",
   "execution_count": 14,
   "metadata": {},
   "outputs": [],
   "source": [
    "df.drop('ID',axis=1,inplace=True)"
   ]
  },
  {
   "cell_type": "markdown",
   "metadata": {},
   "source": [
    "# EDA"
   ]
  },
  {
   "cell_type": "code",
   "execution_count": 15,
   "metadata": {},
   "outputs": [
    {
     "data": {
      "image/png": "[encoded data removed]",
      "text/plain": [
       "<Figure size 648x648 with 2 Axes>"
      ]
     },
     "metadata": {
      "needs_background": "light"
     },
     "output_type": "display_data"
    }
   ],
   "source": [
    "#heatmap correlation\n",
    "\n",
    "import seaborn as sns\n",
    "corr_hmap=df.corr()\n",
    "plt.figure(figsize=(9,9))\n",
    "sns.heatmap(corr_hmap,annot=True)\n",
    "plt.show()"
   ]
  },
  {
   "cell_type": "code",
   "execution_count": 16,
   "metadata": {},
   "outputs": [
    {
     "data": {
      "text/plain": [
       "Estimated_Insects_Count       AxesSubplot(0.125,0.772143;0.110714x0.107857)\n",
       "Crop_Type                  AxesSubplot(0.257857,0.772143;0.110714x0.107857)\n",
       "Soil_Type                  AxesSubplot(0.390714,0.772143;0.110714x0.107857)\n",
       "Pesticide_Use_Category     AxesSubplot(0.523571,0.772143;0.110714x0.107857)\n",
       "Number_Doses_Week          AxesSubplot(0.656429,0.772143;0.110714x0.107857)\n",
       "Number_Weeks_Used          AxesSubplot(0.789286,0.772143;0.110714x0.107857)\n",
       "Number_Weeks_Quit             AxesSubplot(0.125,0.642714;0.110714x0.107857)\n",
       "Season                     AxesSubplot(0.257857,0.642714;0.110714x0.107857)\n",
       "Crop_Damage                AxesSubplot(0.390714,0.642714;0.110714x0.107857)\n",
       "dtype: object"
      ]
     },
     "execution_count": 16,
     "metadata": {},
     "output_type": "execute_result"
    },
    {
     "data": {
      "image/png": "[encoded data removed]",
      "text/plain": [
       "<Figure size 432x288 with 36 Axes>"
      ]
     },
     "metadata": {
      "needs_background": "light"
     },
     "output_type": "display_data"
    }
   ],
   "source": [
    "# checking outliers\n",
    "df.plot.box(subplots=True,layout=(6,6))"
   ]
  },
  {
   "cell_type": "code",
   "execution_count": 17,
   "metadata": {},
   "outputs": [
    {
     "name": "stdout",
     "output_type": "stream",
     "text": [
      "(88858, 9)\n",
      "(84853, 9)\n"
     ]
    }
   ],
   "source": [
    "# removing outliers\n",
    "\n",
    "from scipy.stats import zscore\n",
    "\n",
    "z=np.abs(zscore(df))\n",
    "print(df.shape)\n",
    "df=df.loc[(z<3).all(axis=1)]\n",
    "print(df.shape)"
   ]
  },
  {
   "cell_type": "code",
   "execution_count": 18,
   "metadata": {},
   "outputs": [
    {
     "data": {
      "text/plain": [
       "Estimated_Insects_Count    0.802312\n",
       "Crop_Type                  0.939630\n",
       "Soil_Type                  0.165963\n",
       "Pesticide_Use_Category     0.857490\n",
       "Number_Doses_Week          0.745649\n",
       "Number_Weeks_Used          0.278955\n",
       "Number_Weeks_Quit          0.792407\n",
       "Season                     0.145248\n",
       "Crop_Damage                2.065124\n",
       "dtype: float64"
      ]
     },
     "execution_count": 18,
     "metadata": {},
     "output_type": "execute_result"
    }
   ],
   "source": [
    "df.skew()"
   ]
  },
  {
   "cell_type": "code",
   "execution_count": 19,
   "metadata": {},
   "outputs": [],
   "source": [
    "#lets treat the skewness in the input dataset\n",
    "for index in df.skew().index:\n",
    "    if df.skew().loc[index]>0.5:\n",
    "        df[index]=np.cbrt(df[index])\n",
    "    if df.skew().loc[index]<-0.5:\n",
    "        df[index]=np.sqrt(df[index])"
   ]
  },
  {
   "cell_type": "code",
   "execution_count": 20,
   "metadata": {},
   "outputs": [
    {
     "data": {
      "text/plain": [
       "Estimated_Insects_Count   -0.008714\n",
       "Crop_Type                  0.939630\n",
       "Soil_Type                  0.165963\n",
       "Pesticide_Use_Category     0.606849\n",
       "Number_Doses_Week         -3.099629\n",
       "Number_Weeks_Used          0.278955\n",
       "Number_Weeks_Quit         -0.369121\n",
       "Season                     0.145248\n",
       "Crop_Damage                2.065124\n",
       "dtype: float64"
      ]
     },
     "execution_count": 20,
     "metadata": {},
     "output_type": "execute_result"
    }
   ],
   "source": [
    "df.skew()"
   ]
  },
  {
   "cell_type": "markdown",
   "metadata": {},
   "source": [
    "# Splitting and Sending Data to Model"
   ]
  },
  {
   "cell_type": "code",
   "execution_count": 21,
   "metadata": {},
   "outputs": [],
   "source": [
    "#splitting the data for training and test\n",
    "\n",
    "x=df.drop(columns=['Crop_Damage'])\n",
    "y=df['Crop_Damage']"
   ]
  },
  {
   "cell_type": "code",
   "execution_count": 22,
   "metadata": {},
   "outputs": [],
   "source": [
    "from sklearn.preprocessing import StandardScaler\n",
    "scale=StandardScaler()\n",
    "x=scale.fit_transform(x)\n"
   ]
  },
  {
   "cell_type": "code",
   "execution_count": 23,
   "metadata": {},
   "outputs": [
    {
     "name": "stdout",
     "output_type": "stream",
     "text": [
      "Maximimum Accuracy Score is 0.8646514642625656 at 88\n"
     ]
    }
   ],
   "source": [
    "from sklearn.metrics import accuracy_score\n",
    "from sklearn.metrics import confusion_matrix,classification_report\n",
    "from sklearn.model_selection import train_test_split\n",
    "from sklearn.linear_model import LogisticRegression\n",
    "max_score=0\n",
    "\n",
    "for r_state in range(37,101):\n",
    "    x_train,x_test,y_train,y_test=train_test_split(x,y,test_size=.20,random_state=r_state)\n",
    "    lg=LogisticRegression()\n",
    "    lg.fit(x_train,y_train)\n",
    "    pred=lg.predict(x_test)\n",
    "    score=accuracy_score(y_test,pred)\n",
    "    if score>max_score:\n",
    "        max_score=score\n",
    "        final_r_state=r_state\n",
    "print(\"Maximimum Accuracy Score is\",max_score,'at',final_r_state)\n"
   ]
  },
  {
   "cell_type": "code",
   "execution_count": 24,
   "metadata": {},
   "outputs": [
    {
     "name": "stdout",
     "output_type": "stream",
     "text": [
      "Accuracy Score of LogisticRegression() is:\n",
      "0.8646514642625656\n",
      "[[14480   178]\n",
      " [ 2119   194]]\n",
      "              precision    recall  f1-score   support\n",
      "\n",
      "         0.0       0.87      0.99      0.93     14658\n",
      "         1.0       0.52      0.08      0.14      2313\n",
      "\n",
      "    accuracy                           0.86     16971\n",
      "   macro avg       0.70      0.54      0.54     16971\n",
      "weighted avg       0.82      0.86      0.82     16971\n",
      "\n",
      "\n",
      "\n",
      "Accuracy Score of SVC() is:\n",
      "0.8696010842024631\n",
      "[[14535   123]\n",
      " [ 2090   223]]\n",
      "              precision    recall  f1-score   support\n",
      "\n",
      "         0.0       0.87      0.99      0.93     14658\n",
      "         1.0       0.64      0.10      0.17      2313\n",
      "\n",
      "    accuracy                           0.87     16971\n",
      "   macro avg       0.76      0.54      0.55     16971\n",
      "weighted avg       0.84      0.87      0.83     16971\n",
      "\n",
      "\n",
      "\n",
      "Accuracy Score of KNeighborsClassifier() is:\n",
      "0.8578162748217547\n",
      "[[13985   673]\n",
      " [ 1740   573]]\n",
      "              precision    recall  f1-score   support\n",
      "\n",
      "         0.0       0.89      0.95      0.92     14658\n",
      "         1.0       0.46      0.25      0.32      2313\n",
      "\n",
      "    accuracy                           0.86     16971\n",
      "   macro avg       0.67      0.60      0.62     16971\n",
      "weighted avg       0.83      0.86      0.84     16971\n",
      "\n",
      "\n",
      "\n",
      "Accuracy Score of DecisionTreeClassifier() is:\n",
      "0.7915267220552707\n",
      "[[12730  1928]\n",
      " [ 1610   703]]\n",
      "              precision    recall  f1-score   support\n",
      "\n",
      "         0.0       0.89      0.87      0.88     14658\n",
      "         1.0       0.27      0.30      0.28      2313\n",
      "\n",
      "    accuracy                           0.79     16971\n",
      "   macro avg       0.58      0.59      0.58     16971\n",
      "weighted avg       0.80      0.79      0.80     16971\n",
      "\n",
      "\n",
      "\n"
     ]
    }
   ],
   "source": [
    "from sklearn.svm import SVC\n",
    "from sklearn.tree import DecisionTreeClassifier\n",
    "from sklearn.neighbors import KNeighborsClassifier\n",
    "x_train,x_test,y_train,y_test=train_test_split(x,y,test_size=.20,random_state=88)\n",
    "\n",
    "model=[LogisticRegression(),SVC(),KNeighborsClassifier(),DecisionTreeClassifier()]\n",
    "\n",
    "\n",
    "for m in model:\n",
    "    m.fit(x_train,y_train)\n",
    "    m.score(x_train,y_train)\n",
    "    predm=m.predict(x_test)\n",
    "    print(\"Accuracy Score of\",m,'is:')\n",
    "    print(accuracy_score(y_test,predm))\n",
    "    print(confusion_matrix(y_test,predm))\n",
    "    print(classification_report(y_test,predm))\n",
    "    print('\\n') "
   ]
  },
  {
   "cell_type": "markdown",
   "metadata": {},
   "source": [
    "# Using Enseble Technique"
   ]
  },
  {
   "cell_type": "code",
   "execution_count": 25,
   "metadata": {},
   "outputs": [
    {
     "name": "stdout",
     "output_type": "stream",
     "text": [
      "0.8565788698367804\n",
      "[[14005   653]\n",
      " [ 1781   532]]\n",
      "              precision    recall  f1-score   support\n",
      "\n",
      "         0.0       0.89      0.96      0.92     14658\n",
      "         1.0       0.45      0.23      0.30      2313\n",
      "\n",
      "    accuracy                           0.86     16971\n",
      "   macro avg       0.67      0.59      0.61     16971\n",
      "weighted avg       0.83      0.86      0.84     16971\n",
      "\n"
     ]
    }
   ],
   "source": [
    "from sklearn.ensemble import RandomForestClassifier\n",
    "rf=RandomForestClassifier(n_estimators=100,random_state=88)   #estimator is 100 by default can change it 50,100,150...\n",
    "rf.fit(x_train,y_train)\n",
    "predrf=rf.predict(x_test)\n",
    "print(accuracy_score(y_test,predrf))\n",
    "print(confusion_matrix(y_test,predrf))\n",
    "print(classification_report(y_test,predrf))\n"
   ]
  },
  {
   "cell_type": "markdown",
   "metadata": {},
   "source": [
    "After applying ensemble technique we can see that we are getting maximum accuracy with Logistic Regression. so we can save our Model with Logistic Regression."
   ]
  },
  {
   "cell_type": "markdown",
   "metadata": {},
   "source": [
    "# Using GridSearchCV"
   ]
  },
  {
   "cell_type": "code",
   "execution_count": 26,
   "metadata": {},
   "outputs": [
    {
     "data": {
      "text/plain": [
       "{'C': 1, 'random_state': 42}"
      ]
     },
     "execution_count": 26,
     "metadata": {},
     "output_type": "execute_result"
    }
   ],
   "source": [
    "from sklearn.model_selection import GridSearchCV\n",
    "# using GridsearchCV ti fing best parmeters of logistic regression\n",
    "lg=LogisticRegression()\n",
    "parameters={'C':[1,10],'random_state':range(42,100)}\n",
    "clf=GridSearchCV(lg,parameters)\n",
    "clf.fit(x,y)\n",
    "clf.best_params_"
   ]
  },
  {
   "cell_type": "markdown",
   "metadata": {},
   "source": [
    "# selecting Best Model"
   ]
  },
  {
   "cell_type": "code",
   "execution_count": 27,
   "metadata": {},
   "outputs": [
    {
     "name": "stdout",
     "output_type": "stream",
     "text": [
      "Accuracy score: 0.8646514642625656\n",
      "confusion matrix: [[14480   178]\n",
      " [ 2119   194]]\n",
      "classification report:               precision    recall  f1-score   support\n",
      "\n",
      "         0.0       0.87      0.99      0.93     14658\n",
      "         1.0       0.52      0.08      0.14      2313\n",
      "\n",
      "    accuracy                           0.86     16971\n",
      "   macro avg       0.70      0.54      0.54     16971\n",
      "weighted avg       0.82      0.86      0.82     16971\n",
      "\n"
     ]
    }
   ],
   "source": [
    "#so we get the best result in logistic regression model\n",
    "lg=LogisticRegression(C=1,random_state=42)\n",
    "lg.fit(x_train,y_train)\n",
    "pred=lg.predict(x_test)\n",
    "print('Accuracy score:',accuracy_score(y_test,pred))\n",
    "print('confusion matrix:',confusion_matrix(y_test,pred))\n",
    "print('classification report:',classification_report(y_test,pred))"
   ]
  },
  {
   "cell_type": "markdown",
   "metadata": {},
   "source": [
    "# Cross Validation"
   ]
  },
  {
   "cell_type": "code",
   "execution_count": 28,
   "metadata": {},
   "outputs": [
    {
     "name": "stdout",
     "output_type": "stream",
     "text": [
      "[0.85940722 0.85822874 0.8591126  0.85898645 0.85945787]\n",
      "0.8590385769172528 0.00044175401361598864\n"
     ]
    }
   ],
   "source": [
    "# cross validation\n",
    "\n",
    "from sklearn.model_selection import cross_val_score\n",
    "\n",
    "scores=cross_val_score(lg,x,y,cv=5)\n",
    "print(scores)\n",
    "print(scores.mean(),scores.std())"
   ]
  },
  {
   "cell_type": "markdown",
   "metadata": {},
   "source": [
    "# Saving the model"
   ]
  },
  {
   "cell_type": "code",
   "execution_count": 29,
   "metadata": {},
   "outputs": [
    {
     "data": {
      "text/plain": [
       "['pesticide.obj']"
      ]
     },
     "execution_count": 29,
     "metadata": {},
     "output_type": "execute_result"
    }
   ],
   "source": [
    "# saving the model\n",
    "\n",
    "import joblib\n",
    "joblib.dump(lg,'pesticide.obj') "
   ]
  },
  {
   "cell_type": "markdown",
   "metadata": {},
   "source": [
    "Now we have test data .Before putting test data into the model we have to do EDA of test data"
   ]
  },
  {
   "cell_type": "markdown",
   "metadata": {},
   "source": [
    "# Test  Data Preprocessing"
   ]
  },
  {
   "cell_type": "code",
   "execution_count": 30,
   "metadata": {},
   "outputs": [
    {
     "data": {
      "text/html": [
       "<div>\n",
       "<style scoped>\n",
       "    .dataframe tbody tr th:only-of-type {\n",
       "        vertical-align: middle;\n",
       "    }\n",
       "\n",
       "    .dataframe tbody tr th {\n",
       "        vertical-align: top;\n",
       "    }\n",
       "\n",
       "    .dataframe thead th {\n",
       "        text-align: right;\n",
       "    }\n",
       "</style>\n",
       "<table border=\"1\" class=\"dataframe\">\n",
       "  <thead>\n",
       "    <tr style=\"text-align: right;\">\n",
       "      <th></th>\n",
       "      <th>ID</th>\n",
       "      <th>Estimated_Insects_Count</th>\n",
       "      <th>Crop_Type</th>\n",
       "      <th>Soil_Type</th>\n",
       "      <th>Pesticide_Use_Category</th>\n",
       "      <th>Number_Doses_Week</th>\n",
       "      <th>Number_Weeks_Used</th>\n",
       "      <th>Number_Weeks_Quit</th>\n",
       "      <th>Season</th>\n",
       "    </tr>\n",
       "  </thead>\n",
       "  <tbody>\n",
       "    <tr>\n",
       "      <th>0</th>\n",
       "      <td>F00000002</td>\n",
       "      <td>188</td>\n",
       "      <td>1</td>\n",
       "      <td>1</td>\n",
       "      <td>1</td>\n",
       "      <td>0</td>\n",
       "      <td>NaN</td>\n",
       "      <td>0</td>\n",
       "      <td>2</td>\n",
       "    </tr>\n",
       "    <tr>\n",
       "      <th>1</th>\n",
       "      <td>F00000007</td>\n",
       "      <td>410</td>\n",
       "      <td>1</td>\n",
       "      <td>1</td>\n",
       "      <td>1</td>\n",
       "      <td>0</td>\n",
       "      <td>0.0</td>\n",
       "      <td>0</td>\n",
       "      <td>2</td>\n",
       "    </tr>\n",
       "    <tr>\n",
       "      <th>2</th>\n",
       "      <td>F00000011</td>\n",
       "      <td>626</td>\n",
       "      <td>1</td>\n",
       "      <td>0</td>\n",
       "      <td>1</td>\n",
       "      <td>0</td>\n",
       "      <td>0.0</td>\n",
       "      <td>0</td>\n",
       "      <td>2</td>\n",
       "    </tr>\n",
       "    <tr>\n",
       "      <th>3</th>\n",
       "      <td>F00000013</td>\n",
       "      <td>731</td>\n",
       "      <td>1</td>\n",
       "      <td>0</td>\n",
       "      <td>1</td>\n",
       "      <td>0</td>\n",
       "      <td>0.0</td>\n",
       "      <td>0</td>\n",
       "      <td>2</td>\n",
       "    </tr>\n",
       "    <tr>\n",
       "      <th>4</th>\n",
       "      <td>F00000014</td>\n",
       "      <td>789</td>\n",
       "      <td>0</td>\n",
       "      <td>0</td>\n",
       "      <td>1</td>\n",
       "      <td>0</td>\n",
       "      <td>0.0</td>\n",
       "      <td>0</td>\n",
       "      <td>1</td>\n",
       "    </tr>\n",
       "    <tr>\n",
       "      <th>...</th>\n",
       "      <td>...</td>\n",
       "      <td>...</td>\n",
       "      <td>...</td>\n",
       "      <td>...</td>\n",
       "      <td>...</td>\n",
       "      <td>...</td>\n",
       "      <td>...</td>\n",
       "      <td>...</td>\n",
       "      <td>...</td>\n",
       "    </tr>\n",
       "    <tr>\n",
       "      <th>1194</th>\n",
       "      <td>F00003133</td>\n",
       "      <td>1132</td>\n",
       "      <td>0</td>\n",
       "      <td>1</td>\n",
       "      <td>2</td>\n",
       "      <td>40</td>\n",
       "      <td>34.0</td>\n",
       "      <td>7</td>\n",
       "      <td>3</td>\n",
       "    </tr>\n",
       "    <tr>\n",
       "      <th>1195</th>\n",
       "      <td>F00003135</td>\n",
       "      <td>1132</td>\n",
       "      <td>0</td>\n",
       "      <td>1</td>\n",
       "      <td>2</td>\n",
       "      <td>40</td>\n",
       "      <td>25.0</td>\n",
       "      <td>3</td>\n",
       "      <td>1</td>\n",
       "    </tr>\n",
       "    <tr>\n",
       "      <th>1196</th>\n",
       "      <td>F00003138</td>\n",
       "      <td>1132</td>\n",
       "      <td>0</td>\n",
       "      <td>1</td>\n",
       "      <td>2</td>\n",
       "      <td>20</td>\n",
       "      <td>13.0</td>\n",
       "      <td>23</td>\n",
       "      <td>1</td>\n",
       "    </tr>\n",
       "    <tr>\n",
       "      <th>1197</th>\n",
       "      <td>F00003149</td>\n",
       "      <td>1212</td>\n",
       "      <td>0</td>\n",
       "      <td>1</td>\n",
       "      <td>2</td>\n",
       "      <td>10</td>\n",
       "      <td>35.0</td>\n",
       "      <td>5</td>\n",
       "      <td>1</td>\n",
       "    </tr>\n",
       "    <tr>\n",
       "      <th>1198</th>\n",
       "      <td>F00003150</td>\n",
       "      <td>1212</td>\n",
       "      <td>0</td>\n",
       "      <td>1</td>\n",
       "      <td>2</td>\n",
       "      <td>15</td>\n",
       "      <td>NaN</td>\n",
       "      <td>20</td>\n",
       "      <td>3</td>\n",
       "    </tr>\n",
       "  </tbody>\n",
       "</table>\n",
       "<p>1199 rows × 9 columns</p>\n",
       "</div>"
      ],
      "text/plain": [
       "             ID  Estimated_Insects_Count  Crop_Type  Soil_Type  \\\n",
       "0     F00000002                      188          1          1   \n",
       "1     F00000007                      410          1          1   \n",
       "2     F00000011                      626          1          0   \n",
       "3     F00000013                      731          1          0   \n",
       "4     F00000014                      789          0          0   \n",
       "...         ...                      ...        ...        ...   \n",
       "1194  F00003133                     1132          0          1   \n",
       "1195  F00003135                     1132          0          1   \n",
       "1196  F00003138                     1132          0          1   \n",
       "1197  F00003149                     1212          0          1   \n",
       "1198  F00003150                     1212          0          1   \n",
       "\n",
       "      Pesticide_Use_Category  Number_Doses_Week  Number_Weeks_Used  \\\n",
       "0                          1                  0                NaN   \n",
       "1                          1                  0                0.0   \n",
       "2                          1                  0                0.0   \n",
       "3                          1                  0                0.0   \n",
       "4                          1                  0                0.0   \n",
       "...                      ...                ...                ...   \n",
       "1194                       2                 40               34.0   \n",
       "1195                       2                 40               25.0   \n",
       "1196                       2                 20               13.0   \n",
       "1197                       2                 10               35.0   \n",
       "1198                       2                 15                NaN   \n",
       "\n",
       "      Number_Weeks_Quit  Season  \n",
       "0                     0       2  \n",
       "1                     0       2  \n",
       "2                     0       2  \n",
       "3                     0       2  \n",
       "4                     0       1  \n",
       "...                 ...     ...  \n",
       "1194                  7       3  \n",
       "1195                  3       1  \n",
       "1196                 23       1  \n",
       "1197                  5       1  \n",
       "1198                 20       3  \n",
       "\n",
       "[1199 rows x 9 columns]"
      ]
     },
     "execution_count": 30,
     "metadata": {},
     "output_type": "execute_result"
    }
   ],
   "source": [
    "df_test=pd.read_csv(\"test_agriculture.csv\")\n",
    "df_test"
   ]
  },
  {
   "cell_type": "code",
   "execution_count": 31,
   "metadata": {},
   "outputs": [
    {
     "data": {
      "text/plain": [
       "ID                          object\n",
       "Estimated_Insects_Count      int64\n",
       "Crop_Type                    int64\n",
       "Soil_Type                    int64\n",
       "Pesticide_Use_Category       int64\n",
       "Number_Doses_Week            int64\n",
       "Number_Weeks_Used          float64\n",
       "Number_Weeks_Quit            int64\n",
       "Season                       int64\n",
       "dtype: object"
      ]
     },
     "execution_count": 31,
     "metadata": {},
     "output_type": "execute_result"
    }
   ],
   "source": [
    "df_test.dtypes"
   ]
  },
  {
   "cell_type": "code",
   "execution_count": 32,
   "metadata": {},
   "outputs": [
    {
     "data": {
      "text/plain": [
       "ID                           0\n",
       "Estimated_Insects_Count      0\n",
       "Crop_Type                    0\n",
       "Soil_Type                    0\n",
       "Pesticide_Use_Category       0\n",
       "Number_Doses_Week            0\n",
       "Number_Weeks_Used          119\n",
       "Number_Weeks_Quit            0\n",
       "Season                       0\n",
       "dtype: int64"
      ]
     },
     "execution_count": 32,
     "metadata": {},
     "output_type": "execute_result"
    }
   ],
   "source": [
    "df_test.isnull().sum()"
   ]
  },
  {
   "cell_type": "code",
   "execution_count": 33,
   "metadata": {},
   "outputs": [],
   "source": [
    "df_test['Number_Weeks_Used'].fillna(int(df_test['Number_Weeks_Used'].mean()), inplace=True)"
   ]
  },
  {
   "cell_type": "code",
   "execution_count": 34,
   "metadata": {},
   "outputs": [
    {
     "data": {
      "text/plain": [
       "ID                         0\n",
       "Estimated_Insects_Count    0\n",
       "Crop_Type                  0\n",
       "Soil_Type                  0\n",
       "Pesticide_Use_Category     0\n",
       "Number_Doses_Week          0\n",
       "Number_Weeks_Used          0\n",
       "Number_Weeks_Quit          0\n",
       "Season                     0\n",
       "dtype: int64"
      ]
     },
     "execution_count": 34,
     "metadata": {},
     "output_type": "execute_result"
    }
   ],
   "source": [
    "df_test.isnull().sum()"
   ]
  },
  {
   "cell_type": "markdown",
   "metadata": {},
   "source": [
    "# EDA of Test Data"
   ]
  },
  {
   "cell_type": "code",
   "execution_count": 35,
   "metadata": {},
   "outputs": [
    {
     "data": {
      "image/png": "[encoded data removed]",
      "text/plain": [
       "<Figure size 576x576 with 2 Axes>"
      ]
     },
     "metadata": {
      "needs_background": "light"
     },
     "output_type": "display_data"
    }
   ],
   "source": [
    "#heatmap correlation\n",
    "\n",
    "import seaborn as sns\n",
    "corr_hmap=df_test.corr()\n",
    "plt.figure(figsize=(8,8))\n",
    "sns.heatmap(corr_hmap,annot=True)\n",
    "plt.show()"
   ]
  },
  {
   "cell_type": "code",
   "execution_count": 36,
   "metadata": {},
   "outputs": [
    {
     "data": {
      "text/plain": [
       "Estimated_Insects_Count       AxesSubplot(0.125,0.772143;0.110714x0.107857)\n",
       "Crop_Type                  AxesSubplot(0.257857,0.772143;0.110714x0.107857)\n",
       "Soil_Type                  AxesSubplot(0.390714,0.772143;0.110714x0.107857)\n",
       "Pesticide_Use_Category     AxesSubplot(0.523571,0.772143;0.110714x0.107857)\n",
       "Number_Doses_Week          AxesSubplot(0.656429,0.772143;0.110714x0.107857)\n",
       "Number_Weeks_Used          AxesSubplot(0.789286,0.772143;0.110714x0.107857)\n",
       "Number_Weeks_Quit             AxesSubplot(0.125,0.642714;0.110714x0.107857)\n",
       "Season                     AxesSubplot(0.257857,0.642714;0.110714x0.107857)\n",
       "dtype: object"
      ]
     },
     "execution_count": 36,
     "metadata": {},
     "output_type": "execute_result"
    },
    {
     "data": {
      "image/png": "[encoded data removed]",
      "text/plain": [
       "<Figure size 432x288 with 36 Axes>"
      ]
     },
     "metadata": {
      "needs_background": "light"
     },
     "output_type": "display_data"
    }
   ],
   "source": [
    "# checking outliers\n",
    "df_test.plot.box(subplots=True,layout=(6,6))"
   ]
  },
  {
   "cell_type": "code",
   "execution_count": 37,
   "metadata": {},
   "outputs": [],
   "source": [
    "df_test.drop('ID',axis=1,inplace=True)"
   ]
  },
  {
   "cell_type": "code",
   "execution_count": 38,
   "metadata": {},
   "outputs": [
    {
     "name": "stdout",
     "output_type": "stream",
     "text": [
      "(1199, 8)\n",
      "(1160, 8)\n"
     ]
    }
   ],
   "source": [
    "# removing outliers\n",
    "\n",
    "from scipy.stats import zscore\n",
    "\n",
    "z=np.abs(zscore(df_test))\n",
    "print(df_test.shape)\n",
    "df_test=df_test.loc[(z<3).all(axis=1)]\n",
    "print(df_test.shape)"
   ]
  },
  {
   "cell_type": "code",
   "execution_count": 39,
   "metadata": {},
   "outputs": [
    {
     "data": {
      "text/plain": [
       "Estimated_Insects_Count    1.013185\n",
       "Crop_Type                  1.515496\n",
       "Soil_Type                  0.148878\n",
       "Pesticide_Use_Category     0.069452\n",
       "Number_Doses_Week          0.645208\n",
       "Number_Weeks_Used          0.224662\n",
       "Number_Weeks_Quit          1.032108\n",
       "Season                     0.159728\n",
       "dtype: float64"
      ]
     },
     "execution_count": 39,
     "metadata": {},
     "output_type": "execute_result"
    }
   ],
   "source": [
    "df_test.skew()"
   ]
  },
  {
   "cell_type": "code",
   "execution_count": 40,
   "metadata": {},
   "outputs": [],
   "source": [
    "#lets treat the skewness in the input dataset\n",
    "for index in df_test.skew().index:\n",
    "    if df_test.skew().loc[index]>0.5:\n",
    "        df_test[index]=np.cbrt(df_test[index])\n",
    "    if df_test.skew().loc[index]<-0.5:\n",
    "        df_test[index]=np.sqrt(df_test[index])"
   ]
  },
  {
   "cell_type": "code",
   "execution_count": 41,
   "metadata": {},
   "outputs": [
    {
     "data": {
      "text/plain": [
       "Estimated_Insects_Count    0.193896\n",
       "Crop_Type                  1.515496\n",
       "Soil_Type                  0.148878\n",
       "Pesticide_Use_Category     0.069452\n",
       "Number_Doses_Week         -3.577786\n",
       "Number_Weeks_Used          0.224662\n",
       "Number_Weeks_Quit          0.125611\n",
       "Season                     0.159728\n",
       "dtype: float64"
      ]
     },
     "execution_count": 41,
     "metadata": {},
     "output_type": "execute_result"
    }
   ],
   "source": [
    "df_test.skew()"
   ]
  },
  {
   "cell_type": "markdown",
   "metadata": {},
   "source": [
    "# Putting Test Data in Model"
   ]
  },
  {
   "cell_type": "code",
   "execution_count": 42,
   "metadata": {},
   "outputs": [
    {
     "data": {
      "text/plain": [
       "array([1., 1., 1., ..., 1., 1., 1.])"
      ]
     },
     "execution_count": 42,
     "metadata": {},
     "output_type": "execute_result"
    }
   ],
   "source": [
    "#Now we put test data in our model\n",
    "lg.predict(df_test)"
   ]
  },
  {
   "cell_type": "code",
   "execution_count": null,
   "metadata": {},
   "outputs": [],
   "source": []
  }
 ],
 "metadata": {
  "kernelspec": {
   "display_name": "Python 3",
   "language": "python",
   "name": "python3"
  },
  "language_info": {
   "codemirror_mode": {
    "name": "ipython",
    "version": 3
   },
   "file_extension": ".py",
   "mimetype": "text/x-python",
   "name": "python",
   "nbconvert_exporter": "python",
   "pygments_lexer": "ipython3",
   "version": "3.8.3"
  }
 },
 "nbformat": 4,
 "nbformat_minor": 4
}
